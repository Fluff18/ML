{
  "nbformat": 4,
  "nbformat_minor": 0,
  "metadata": {
    "colab": {
      "name": "Copy of GANWithBetterParamswithLotofModifs.ipynb",
      "provenance": [],
      "collapsed_sections": [],
      "include_colab_link": true
    },
    "kernelspec": {
      "display_name": "Python 3",
      "language": "python",
      "name": "python3"
    },
    "language_info": {
      "codemirror_mode": {
        "name": "ipython",
        "version": 3
      },
      "file_extension": ".py",
      "mimetype": "text/x-python",
      "name": "python",
      "nbconvert_exporter": "python",
      "pygments_lexer": "ipython3",
      "version": "3.5.5"
    },
    "widgets": {
      "application/vnd.jupyter.widget-state+json": {
        "67123ac35ffc4311944e2ea30f6e5c1d": {
          "model_module": "@jupyter-widgets/controls",
          "model_name": "HBoxModel",
          "state": {
            "_view_name": "HBoxView",
            "_dom_classes": [],
            "_model_name": "HBoxModel",
            "_view_module": "@jupyter-widgets/controls",
            "_model_module_version": "1.5.0",
            "_view_count": null,
            "_view_module_version": "1.5.0",
            "box_style": "",
            "layout": "IPY_MODEL_e6dc47b5a36643eba012a47dcee36330",
            "_model_module": "@jupyter-widgets/controls",
            "children": [
              "IPY_MODEL_d73a32ffeca64d6b89925a2416f2af8b",
              "IPY_MODEL_0b158b9b58224b9fb3b1051d8eefc615"
            ]
          }
        },
        "e6dc47b5a36643eba012a47dcee36330": {
          "model_module": "@jupyter-widgets/base",
          "model_name": "LayoutModel",
          "state": {
            "_view_name": "LayoutView",
            "grid_template_rows": null,
            "right": null,
            "justify_content": null,
            "_view_module": "@jupyter-widgets/base",
            "overflow": null,
            "_model_module_version": "1.2.0",
            "_view_count": null,
            "flex_flow": null,
            "width": null,
            "min_width": null,
            "border": null,
            "align_items": null,
            "bottom": null,
            "_model_module": "@jupyter-widgets/base",
            "top": null,
            "grid_column": null,
            "overflow_y": null,
            "overflow_x": null,
            "grid_auto_flow": null,
            "grid_area": null,
            "grid_template_columns": null,
            "flex": null,
            "_model_name": "LayoutModel",
            "justify_items": null,
            "grid_row": null,
            "max_height": null,
            "align_content": null,
            "visibility": null,
            "align_self": null,
            "height": null,
            "min_height": null,
            "padding": null,
            "grid_auto_rows": null,
            "grid_gap": null,
            "max_width": null,
            "order": null,
            "_view_module_version": "1.2.0",
            "grid_template_areas": null,
            "object_position": null,
            "object_fit": null,
            "grid_auto_columns": null,
            "margin": null,
            "display": null,
            "left": null
          }
        },
        "d73a32ffeca64d6b89925a2416f2af8b": {
          "model_module": "@jupyter-widgets/controls",
          "model_name": "IntProgressModel",
          "state": {
            "_view_name": "ProgressView",
            "style": "IPY_MODEL_373fc9564d5e4ad792e7099280de3c9a",
            "_dom_classes": [],
            "description": "",
            "_model_name": "IntProgressModel",
            "bar_style": "success",
            "max": 1,
            "_view_module": "@jupyter-widgets/controls",
            "_model_module_version": "1.5.0",
            "value": 1,
            "_view_count": null,
            "_view_module_version": "1.5.0",
            "orientation": "horizontal",
            "min": 0,
            "description_tooltip": null,
            "_model_module": "@jupyter-widgets/controls",
            "layout": "IPY_MODEL_e6399b5076394382a21c94d82f45bdf1"
          }
        },
        "0b158b9b58224b9fb3b1051d8eefc615": {
          "model_module": "@jupyter-widgets/controls",
          "model_name": "HTMLModel",
          "state": {
            "_view_name": "HTMLView",
            "style": "IPY_MODEL_4ea7747b371b473d89c0e0a749da7f2d",
            "_dom_classes": [],
            "description": "",
            "_model_name": "HTMLModel",
            "placeholder": "​",
            "_view_module": "@jupyter-widgets/controls",
            "_model_module_version": "1.5.0",
            "value": " 9920512/? [00:03&lt;00:00, 3132782.33it/s]",
            "_view_count": null,
            "_view_module_version": "1.5.0",
            "description_tooltip": null,
            "_model_module": "@jupyter-widgets/controls",
            "layout": "IPY_MODEL_3dd9d552d04d43b4bf83f7429e2fb638"
          }
        },
        "373fc9564d5e4ad792e7099280de3c9a": {
          "model_module": "@jupyter-widgets/controls",
          "model_name": "ProgressStyleModel",
          "state": {
            "_view_name": "StyleView",
            "_model_name": "ProgressStyleModel",
            "description_width": "initial",
            "_view_module": "@jupyter-widgets/base",
            "_model_module_version": "1.5.0",
            "_view_count": null,
            "_view_module_version": "1.2.0",
            "bar_color": null,
            "_model_module": "@jupyter-widgets/controls"
          }
        },
        "e6399b5076394382a21c94d82f45bdf1": {
          "model_module": "@jupyter-widgets/base",
          "model_name": "LayoutModel",
          "state": {
            "_view_name": "LayoutView",
            "grid_template_rows": null,
            "right": null,
            "justify_content": null,
            "_view_module": "@jupyter-widgets/base",
            "overflow": null,
            "_model_module_version": "1.2.0",
            "_view_count": null,
            "flex_flow": null,
            "width": null,
            "min_width": null,
            "border": null,
            "align_items": null,
            "bottom": null,
            "_model_module": "@jupyter-widgets/base",
            "top": null,
            "grid_column": null,
            "overflow_y": null,
            "overflow_x": null,
            "grid_auto_flow": null,
            "grid_area": null,
            "grid_template_columns": null,
            "flex": null,
            "_model_name": "LayoutModel",
            "justify_items": null,
            "grid_row": null,
            "max_height": null,
            "align_content": null,
            "visibility": null,
            "align_self": null,
            "height": null,
            "min_height": null,
            "padding": null,
            "grid_auto_rows": null,
            "grid_gap": null,
            "max_width": null,
            "order": null,
            "_view_module_version": "1.2.0",
            "grid_template_areas": null,
            "object_position": null,
            "object_fit": null,
            "grid_auto_columns": null,
            "margin": null,
            "display": null,
            "left": null
          }
        },
        "4ea7747b371b473d89c0e0a749da7f2d": {
          "model_module": "@jupyter-widgets/controls",
          "model_name": "DescriptionStyleModel",
          "state": {
            "_view_name": "StyleView",
            "_model_name": "DescriptionStyleModel",
            "description_width": "",
            "_view_module": "@jupyter-widgets/base",
            "_model_module_version": "1.5.0",
            "_view_count": null,
            "_view_module_version": "1.2.0",
            "_model_module": "@jupyter-widgets/controls"
          }
        },
        "3dd9d552d04d43b4bf83f7429e2fb638": {
          "model_module": "@jupyter-widgets/base",
          "model_name": "LayoutModel",
          "state": {
            "_view_name": "LayoutView",
            "grid_template_rows": null,
            "right": null,
            "justify_content": null,
            "_view_module": "@jupyter-widgets/base",
            "overflow": null,
            "_model_module_version": "1.2.0",
            "_view_count": null,
            "flex_flow": null,
            "width": null,
            "min_width": null,
            "border": null,
            "align_items": null,
            "bottom": null,
            "_model_module": "@jupyter-widgets/base",
            "top": null,
            "grid_column": null,
            "overflow_y": null,
            "overflow_x": null,
            "grid_auto_flow": null,
            "grid_area": null,
            "grid_template_columns": null,
            "flex": null,
            "_model_name": "LayoutModel",
            "justify_items": null,
            "grid_row": null,
            "max_height": null,
            "align_content": null,
            "visibility": null,
            "align_self": null,
            "height": null,
            "min_height": null,
            "padding": null,
            "grid_auto_rows": null,
            "grid_gap": null,
            "max_width": null,
            "order": null,
            "_view_module_version": "1.2.0",
            "grid_template_areas": null,
            "object_position": null,
            "object_fit": null,
            "grid_auto_columns": null,
            "margin": null,
            "display": null,
            "left": null
          }
        },
        "9b07f1f38503482fba564dbd9f355c3b": {
          "model_module": "@jupyter-widgets/controls",
          "model_name": "HBoxModel",
          "state": {
            "_view_name": "HBoxView",
            "_dom_classes": [],
            "_model_name": "HBoxModel",
            "_view_module": "@jupyter-widgets/controls",
            "_model_module_version": "1.5.0",
            "_view_count": null,
            "_view_module_version": "1.5.0",
            "box_style": "",
            "layout": "IPY_MODEL_e824fb2b66b545089937a1522c8cf61a",
            "_model_module": "@jupyter-widgets/controls",
            "children": [
              "IPY_MODEL_7dcda7f57de34a66b7addd37e7906030",
              "IPY_MODEL_695cffe74dcb41e397302067d3a17c2a"
            ]
          }
        },
        "e824fb2b66b545089937a1522c8cf61a": {
          "model_module": "@jupyter-widgets/base",
          "model_name": "LayoutModel",
          "state": {
            "_view_name": "LayoutView",
            "grid_template_rows": null,
            "right": null,
            "justify_content": null,
            "_view_module": "@jupyter-widgets/base",
            "overflow": null,
            "_model_module_version": "1.2.0",
            "_view_count": null,
            "flex_flow": null,
            "width": null,
            "min_width": null,
            "border": null,
            "align_items": null,
            "bottom": null,
            "_model_module": "@jupyter-widgets/base",
            "top": null,
            "grid_column": null,
            "overflow_y": null,
            "overflow_x": null,
            "grid_auto_flow": null,
            "grid_area": null,
            "grid_template_columns": null,
            "flex": null,
            "_model_name": "LayoutModel",
            "justify_items": null,
            "grid_row": null,
            "max_height": null,
            "align_content": null,
            "visibility": null,
            "align_self": null,
            "height": null,
            "min_height": null,
            "padding": null,
            "grid_auto_rows": null,
            "grid_gap": null,
            "max_width": null,
            "order": null,
            "_view_module_version": "1.2.0",
            "grid_template_areas": null,
            "object_position": null,
            "object_fit": null,
            "grid_auto_columns": null,
            "margin": null,
            "display": null,
            "left": null
          }
        },
        "7dcda7f57de34a66b7addd37e7906030": {
          "model_module": "@jupyter-widgets/controls",
          "model_name": "IntProgressModel",
          "state": {
            "_view_name": "ProgressView",
            "style": "IPY_MODEL_8f2eccd1b3fb466a8cfcc843d3fd6b71",
            "_dom_classes": [],
            "description": "",
            "_model_name": "IntProgressModel",
            "bar_style": "success",
            "max": 1,
            "_view_module": "@jupyter-widgets/controls",
            "_model_module_version": "1.5.0",
            "value": 1,
            "_view_count": null,
            "_view_module_version": "1.5.0",
            "orientation": "horizontal",
            "min": 0,
            "description_tooltip": null,
            "_model_module": "@jupyter-widgets/controls",
            "layout": "IPY_MODEL_c0c3c66019854140bc9691d11600a8c0"
          }
        },
        "695cffe74dcb41e397302067d3a17c2a": {
          "model_module": "@jupyter-widgets/controls",
          "model_name": "HTMLModel",
          "state": {
            "_view_name": "HTMLView",
            "style": "IPY_MODEL_6857af43f54b4d96a6eedbc66cf2262d",
            "_dom_classes": [],
            "description": "",
            "_model_name": "HTMLModel",
            "placeholder": "​",
            "_view_module": "@jupyter-widgets/controls",
            "_model_module_version": "1.5.0",
            "value": " 32768/? [00:00&lt;00:00, 212789.70it/s]",
            "_view_count": null,
            "_view_module_version": "1.5.0",
            "description_tooltip": null,
            "_model_module": "@jupyter-widgets/controls",
            "layout": "IPY_MODEL_365d73d220d74b82ae82b08a3be46472"
          }
        },
        "8f2eccd1b3fb466a8cfcc843d3fd6b71": {
          "model_module": "@jupyter-widgets/controls",
          "model_name": "ProgressStyleModel",
          "state": {
            "_view_name": "StyleView",
            "_model_name": "ProgressStyleModel",
            "description_width": "initial",
            "_view_module": "@jupyter-widgets/base",
            "_model_module_version": "1.5.0",
            "_view_count": null,
            "_view_module_version": "1.2.0",
            "bar_color": null,
            "_model_module": "@jupyter-widgets/controls"
          }
        },
        "c0c3c66019854140bc9691d11600a8c0": {
          "model_module": "@jupyter-widgets/base",
          "model_name": "LayoutModel",
          "state": {
            "_view_name": "LayoutView",
            "grid_template_rows": null,
            "right": null,
            "justify_content": null,
            "_view_module": "@jupyter-widgets/base",
            "overflow": null,
            "_model_module_version": "1.2.0",
            "_view_count": null,
            "flex_flow": null,
            "width": null,
            "min_width": null,
            "border": null,
            "align_items": null,
            "bottom": null,
            "_model_module": "@jupyter-widgets/base",
            "top": null,
            "grid_column": null,
            "overflow_y": null,
            "overflow_x": null,
            "grid_auto_flow": null,
            "grid_area": null,
            "grid_template_columns": null,
            "flex": null,
            "_model_name": "LayoutModel",
            "justify_items": null,
            "grid_row": null,
            "max_height": null,
            "align_content": null,
            "visibility": null,
            "align_self": null,
            "height": null,
            "min_height": null,
            "padding": null,
            "grid_auto_rows": null,
            "grid_gap": null,
            "max_width": null,
            "order": null,
            "_view_module_version": "1.2.0",
            "grid_template_areas": null,
            "object_position": null,
            "object_fit": null,
            "grid_auto_columns": null,
            "margin": null,
            "display": null,
            "left": null
          }
        },
        "6857af43f54b4d96a6eedbc66cf2262d": {
          "model_module": "@jupyter-widgets/controls",
          "model_name": "DescriptionStyleModel",
          "state": {
            "_view_name": "StyleView",
            "_model_name": "DescriptionStyleModel",
            "description_width": "",
            "_view_module": "@jupyter-widgets/base",
            "_model_module_version": "1.5.0",
            "_view_count": null,
            "_view_module_version": "1.2.0",
            "_model_module": "@jupyter-widgets/controls"
          }
        },
        "365d73d220d74b82ae82b08a3be46472": {
          "model_module": "@jupyter-widgets/base",
          "model_name": "LayoutModel",
          "state": {
            "_view_name": "LayoutView",
            "grid_template_rows": null,
            "right": null,
            "justify_content": null,
            "_view_module": "@jupyter-widgets/base",
            "overflow": null,
            "_model_module_version": "1.2.0",
            "_view_count": null,
            "flex_flow": null,
            "width": null,
            "min_width": null,
            "border": null,
            "align_items": null,
            "bottom": null,
            "_model_module": "@jupyter-widgets/base",
            "top": null,
            "grid_column": null,
            "overflow_y": null,
            "overflow_x": null,
            "grid_auto_flow": null,
            "grid_area": null,
            "grid_template_columns": null,
            "flex": null,
            "_model_name": "LayoutModel",
            "justify_items": null,
            "grid_row": null,
            "max_height": null,
            "align_content": null,
            "visibility": null,
            "align_self": null,
            "height": null,
            "min_height": null,
            "padding": null,
            "grid_auto_rows": null,
            "grid_gap": null,
            "max_width": null,
            "order": null,
            "_view_module_version": "1.2.0",
            "grid_template_areas": null,
            "object_position": null,
            "object_fit": null,
            "grid_auto_columns": null,
            "margin": null,
            "display": null,
            "left": null
          }
        },
        "412deda983e343f48501e4014e39bc91": {
          "model_module": "@jupyter-widgets/controls",
          "model_name": "HBoxModel",
          "state": {
            "_view_name": "HBoxView",
            "_dom_classes": [],
            "_model_name": "HBoxModel",
            "_view_module": "@jupyter-widgets/controls",
            "_model_module_version": "1.5.0",
            "_view_count": null,
            "_view_module_version": "1.5.0",
            "box_style": "",
            "layout": "IPY_MODEL_c7506da6d65e49c5bbcadbd58c0d0ceb",
            "_model_module": "@jupyter-widgets/controls",
            "children": [
              "IPY_MODEL_2b9e2367259b4c629b2556c8e09090f6",
              "IPY_MODEL_13e403d189fd419c9e681de84b9ca434"
            ]
          }
        },
        "c7506da6d65e49c5bbcadbd58c0d0ceb": {
          "model_module": "@jupyter-widgets/base",
          "model_name": "LayoutModel",
          "state": {
            "_view_name": "LayoutView",
            "grid_template_rows": null,
            "right": null,
            "justify_content": null,
            "_view_module": "@jupyter-widgets/base",
            "overflow": null,
            "_model_module_version": "1.2.0",
            "_view_count": null,
            "flex_flow": null,
            "width": null,
            "min_width": null,
            "border": null,
            "align_items": null,
            "bottom": null,
            "_model_module": "@jupyter-widgets/base",
            "top": null,
            "grid_column": null,
            "overflow_y": null,
            "overflow_x": null,
            "grid_auto_flow": null,
            "grid_area": null,
            "grid_template_columns": null,
            "flex": null,
            "_model_name": "LayoutModel",
            "justify_items": null,
            "grid_row": null,
            "max_height": null,
            "align_content": null,
            "visibility": null,
            "align_self": null,
            "height": null,
            "min_height": null,
            "padding": null,
            "grid_auto_rows": null,
            "grid_gap": null,
            "max_width": null,
            "order": null,
            "_view_module_version": "1.2.0",
            "grid_template_areas": null,
            "object_position": null,
            "object_fit": null,
            "grid_auto_columns": null,
            "margin": null,
            "display": null,
            "left": null
          }
        },
        "2b9e2367259b4c629b2556c8e09090f6": {
          "model_module": "@jupyter-widgets/controls",
          "model_name": "IntProgressModel",
          "state": {
            "_view_name": "ProgressView",
            "style": "IPY_MODEL_e3044419832f4b32829ab70ac356098b",
            "_dom_classes": [],
            "description": "",
            "_model_name": "IntProgressModel",
            "bar_style": "success",
            "max": 1,
            "_view_module": "@jupyter-widgets/controls",
            "_model_module_version": "1.5.0",
            "value": 1,
            "_view_count": null,
            "_view_module_version": "1.5.0",
            "orientation": "horizontal",
            "min": 0,
            "description_tooltip": null,
            "_model_module": "@jupyter-widgets/controls",
            "layout": "IPY_MODEL_85cf4e664bde408493ded96f10ba31f9"
          }
        },
        "13e403d189fd419c9e681de84b9ca434": {
          "model_module": "@jupyter-widgets/controls",
          "model_name": "HTMLModel",
          "state": {
            "_view_name": "HTMLView",
            "style": "IPY_MODEL_71a49496c85e4537b125e742d12bac19",
            "_dom_classes": [],
            "description": "",
            "_model_name": "HTMLModel",
            "placeholder": "​",
            "_view_module": "@jupyter-widgets/controls",
            "_model_module_version": "1.5.0",
            "value": " 1654784/? [00:02&lt;00:00, 694729.49it/s]",
            "_view_count": null,
            "_view_module_version": "1.5.0",
            "description_tooltip": null,
            "_model_module": "@jupyter-widgets/controls",
            "layout": "IPY_MODEL_33298e745b87490ca8ecce6964a48d38"
          }
        },
        "e3044419832f4b32829ab70ac356098b": {
          "model_module": "@jupyter-widgets/controls",
          "model_name": "ProgressStyleModel",
          "state": {
            "_view_name": "StyleView",
            "_model_name": "ProgressStyleModel",
            "description_width": "initial",
            "_view_module": "@jupyter-widgets/base",
            "_model_module_version": "1.5.0",
            "_view_count": null,
            "_view_module_version": "1.2.0",
            "bar_color": null,
            "_model_module": "@jupyter-widgets/controls"
          }
        },
        "85cf4e664bde408493ded96f10ba31f9": {
          "model_module": "@jupyter-widgets/base",
          "model_name": "LayoutModel",
          "state": {
            "_view_name": "LayoutView",
            "grid_template_rows": null,
            "right": null,
            "justify_content": null,
            "_view_module": "@jupyter-widgets/base",
            "overflow": null,
            "_model_module_version": "1.2.0",
            "_view_count": null,
            "flex_flow": null,
            "width": null,
            "min_width": null,
            "border": null,
            "align_items": null,
            "bottom": null,
            "_model_module": "@jupyter-widgets/base",
            "top": null,
            "grid_column": null,
            "overflow_y": null,
            "overflow_x": null,
            "grid_auto_flow": null,
            "grid_area": null,
            "grid_template_columns": null,
            "flex": null,
            "_model_name": "LayoutModel",
            "justify_items": null,
            "grid_row": null,
            "max_height": null,
            "align_content": null,
            "visibility": null,
            "align_self": null,
            "height": null,
            "min_height": null,
            "padding": null,
            "grid_auto_rows": null,
            "grid_gap": null,
            "max_width": null,
            "order": null,
            "_view_module_version": "1.2.0",
            "grid_template_areas": null,
            "object_position": null,
            "object_fit": null,
            "grid_auto_columns": null,
            "margin": null,
            "display": null,
            "left": null
          }
        },
        "71a49496c85e4537b125e742d12bac19": {
          "model_module": "@jupyter-widgets/controls",
          "model_name": "DescriptionStyleModel",
          "state": {
            "_view_name": "StyleView",
            "_model_name": "DescriptionStyleModel",
            "description_width": "",
            "_view_module": "@jupyter-widgets/base",
            "_model_module_version": "1.5.0",
            "_view_count": null,
            "_view_module_version": "1.2.0",
            "_model_module": "@jupyter-widgets/controls"
          }
        },
        "33298e745b87490ca8ecce6964a48d38": {
          "model_module": "@jupyter-widgets/base",
          "model_name": "LayoutModel",
          "state": {
            "_view_name": "LayoutView",
            "grid_template_rows": null,
            "right": null,
            "justify_content": null,
            "_view_module": "@jupyter-widgets/base",
            "overflow": null,
            "_model_module_version": "1.2.0",
            "_view_count": null,
            "flex_flow": null,
            "width": null,
            "min_width": null,
            "border": null,
            "align_items": null,
            "bottom": null,
            "_model_module": "@jupyter-widgets/base",
            "top": null,
            "grid_column": null,
            "overflow_y": null,
            "overflow_x": null,
            "grid_auto_flow": null,
            "grid_area": null,
            "grid_template_columns": null,
            "flex": null,
            "_model_name": "LayoutModel",
            "justify_items": null,
            "grid_row": null,
            "max_height": null,
            "align_content": null,
            "visibility": null,
            "align_self": null,
            "height": null,
            "min_height": null,
            "padding": null,
            "grid_auto_rows": null,
            "grid_gap": null,
            "max_width": null,
            "order": null,
            "_view_module_version": "1.2.0",
            "grid_template_areas": null,
            "object_position": null,
            "object_fit": null,
            "grid_auto_columns": null,
            "margin": null,
            "display": null,
            "left": null
          }
        },
        "77df114732904bccb358fe75d5a6d1cd": {
          "model_module": "@jupyter-widgets/controls",
          "model_name": "HBoxModel",
          "state": {
            "_view_name": "HBoxView",
            "_dom_classes": [],
            "_model_name": "HBoxModel",
            "_view_module": "@jupyter-widgets/controls",
            "_model_module_version": "1.5.0",
            "_view_count": null,
            "_view_module_version": "1.5.0",
            "box_style": "",
            "layout": "IPY_MODEL_1cfe85f06c244212a14040ba1b6143a7",
            "_model_module": "@jupyter-widgets/controls",
            "children": [
              "IPY_MODEL_12e70af63f784223be73cfb8c3c7a450",
              "IPY_MODEL_da0e7921fa8741f981ec3df350aa8e5a"
            ]
          }
        },
        "1cfe85f06c244212a14040ba1b6143a7": {
          "model_module": "@jupyter-widgets/base",
          "model_name": "LayoutModel",
          "state": {
            "_view_name": "LayoutView",
            "grid_template_rows": null,
            "right": null,
            "justify_content": null,
            "_view_module": "@jupyter-widgets/base",
            "overflow": null,
            "_model_module_version": "1.2.0",
            "_view_count": null,
            "flex_flow": null,
            "width": null,
            "min_width": null,
            "border": null,
            "align_items": null,
            "bottom": null,
            "_model_module": "@jupyter-widgets/base",
            "top": null,
            "grid_column": null,
            "overflow_y": null,
            "overflow_x": null,
            "grid_auto_flow": null,
            "grid_area": null,
            "grid_template_columns": null,
            "flex": null,
            "_model_name": "LayoutModel",
            "justify_items": null,
            "grid_row": null,
            "max_height": null,
            "align_content": null,
            "visibility": null,
            "align_self": null,
            "height": null,
            "min_height": null,
            "padding": null,
            "grid_auto_rows": null,
            "grid_gap": null,
            "max_width": null,
            "order": null,
            "_view_module_version": "1.2.0",
            "grid_template_areas": null,
            "object_position": null,
            "object_fit": null,
            "grid_auto_columns": null,
            "margin": null,
            "display": null,
            "left": null
          }
        },
        "12e70af63f784223be73cfb8c3c7a450": {
          "model_module": "@jupyter-widgets/controls",
          "model_name": "IntProgressModel",
          "state": {
            "_view_name": "ProgressView",
            "style": "IPY_MODEL_dcde51620340409d977b3c3a374b2932",
            "_dom_classes": [],
            "description": "",
            "_model_name": "IntProgressModel",
            "bar_style": "success",
            "max": 1,
            "_view_module": "@jupyter-widgets/controls",
            "_model_module_version": "1.5.0",
            "value": 1,
            "_view_count": null,
            "_view_module_version": "1.5.0",
            "orientation": "horizontal",
            "min": 0,
            "description_tooltip": null,
            "_model_module": "@jupyter-widgets/controls",
            "layout": "IPY_MODEL_efea50a7334940a999ac46347b201a8e"
          }
        },
        "da0e7921fa8741f981ec3df350aa8e5a": {
          "model_module": "@jupyter-widgets/controls",
          "model_name": "HTMLModel",
          "state": {
            "_view_name": "HTMLView",
            "style": "IPY_MODEL_492ed8c9d5974892a0699d9dc2a3e9b8",
            "_dom_classes": [],
            "description": "",
            "_model_name": "HTMLModel",
            "placeholder": "​",
            "_view_module": "@jupyter-widgets/controls",
            "_model_module_version": "1.5.0",
            "value": " 8192/? [00:02&lt;00:00, 3962.03it/s]",
            "_view_count": null,
            "_view_module_version": "1.5.0",
            "description_tooltip": null,
            "_model_module": "@jupyter-widgets/controls",
            "layout": "IPY_MODEL_e57bb01cd78c49ed8cc92885de9b5618"
          }
        },
        "dcde51620340409d977b3c3a374b2932": {
          "model_module": "@jupyter-widgets/controls",
          "model_name": "ProgressStyleModel",
          "state": {
            "_view_name": "StyleView",
            "_model_name": "ProgressStyleModel",
            "description_width": "initial",
            "_view_module": "@jupyter-widgets/base",
            "_model_module_version": "1.5.0",
            "_view_count": null,
            "_view_module_version": "1.2.0",
            "bar_color": null,
            "_model_module": "@jupyter-widgets/controls"
          }
        },
        "efea50a7334940a999ac46347b201a8e": {
          "model_module": "@jupyter-widgets/base",
          "model_name": "LayoutModel",
          "state": {
            "_view_name": "LayoutView",
            "grid_template_rows": null,
            "right": null,
            "justify_content": null,
            "_view_module": "@jupyter-widgets/base",
            "overflow": null,
            "_model_module_version": "1.2.0",
            "_view_count": null,
            "flex_flow": null,
            "width": null,
            "min_width": null,
            "border": null,
            "align_items": null,
            "bottom": null,
            "_model_module": "@jupyter-widgets/base",
            "top": null,
            "grid_column": null,
            "overflow_y": null,
            "overflow_x": null,
            "grid_auto_flow": null,
            "grid_area": null,
            "grid_template_columns": null,
            "flex": null,
            "_model_name": "LayoutModel",
            "justify_items": null,
            "grid_row": null,
            "max_height": null,
            "align_content": null,
            "visibility": null,
            "align_self": null,
            "height": null,
            "min_height": null,
            "padding": null,
            "grid_auto_rows": null,
            "grid_gap": null,
            "max_width": null,
            "order": null,
            "_view_module_version": "1.2.0",
            "grid_template_areas": null,
            "object_position": null,
            "object_fit": null,
            "grid_auto_columns": null,
            "margin": null,
            "display": null,
            "left": null
          }
        },
        "492ed8c9d5974892a0699d9dc2a3e9b8": {
          "model_module": "@jupyter-widgets/controls",
          "model_name": "DescriptionStyleModel",
          "state": {
            "_view_name": "StyleView",
            "_model_name": "DescriptionStyleModel",
            "description_width": "",
            "_view_module": "@jupyter-widgets/base",
            "_model_module_version": "1.5.0",
            "_view_count": null,
            "_view_module_version": "1.2.0",
            "_model_module": "@jupyter-widgets/controls"
          }
        },
        "e57bb01cd78c49ed8cc92885de9b5618": {
          "model_module": "@jupyter-widgets/base",
          "model_name": "LayoutModel",
          "state": {
            "_view_name": "LayoutView",
            "grid_template_rows": null,
            "right": null,
            "justify_content": null,
            "_view_module": "@jupyter-widgets/base",
            "overflow": null,
            "_model_module_version": "1.2.0",
            "_view_count": null,
            "flex_flow": null,
            "width": null,
            "min_width": null,
            "border": null,
            "align_items": null,
            "bottom": null,
            "_model_module": "@jupyter-widgets/base",
            "top": null,
            "grid_column": null,
            "overflow_y": null,
            "overflow_x": null,
            "grid_auto_flow": null,
            "grid_area": null,
            "grid_template_columns": null,
            "flex": null,
            "_model_name": "LayoutModel",
            "justify_items": null,
            "grid_row": null,
            "max_height": null,
            "align_content": null,
            "visibility": null,
            "align_self": null,
            "height": null,
            "min_height": null,
            "padding": null,
            "grid_auto_rows": null,
            "grid_gap": null,
            "max_width": null,
            "order": null,
            "_view_module_version": "1.2.0",
            "grid_template_areas": null,
            "object_position": null,
            "object_fit": null,
            "grid_auto_columns": null,
            "margin": null,
            "display": null,
            "left": null
          }
        }
      }
    }
  },
  "cells": [
    {
      "cell_type": "markdown",
      "metadata": {
        "id": "view-in-github",
        "colab_type": "text"
      },
      "source": [
        "<a href=\"https://colab.research.google.com/github/Fluff18/ML/blob/master/Copy_of_GANWithBetterParamswithLotofModifs.ipynb\" target=\"_parent\"><img src=\"https://colab.research.google.com/assets/colab-badge.svg\" alt=\"Open In Colab\"/></a>"
      ]
    },
    {
      "cell_type": "code",
      "metadata": {
        "colab_type": "code",
        "id": "_iaQa45ebnmi",
        "colab": {}
      },
      "source": [
        "from __future__ import absolute_import\n",
        "from __future__ import division\n",
        "from __future__ import print_function\n",
        "\n",
        "import collections\n",
        "import gzip\n",
        "import os\n",
        "import time\n",
        "\n",
        "import numpy\n",
        "from six.moves import urllib\n",
        "from six.moves import xrange  # pylint: disable=redefined-builtin\n",
        "\n",
        "from tensorflow.python.framework import dtypes\n",
        "from tensorflow.python.framework import random_seed\n",
        "from tensorflow.python.platform import gfile\n",
        "from tensorflow.python.util.deprecation import deprecated\n",
        "\n",
        "_Datasets = collections.namedtuple('_Datasets', ['train', 'validation', 'test'])\n",
        "\n",
        "# CVDF mirror of http://yann.lecun.com/exdb/mnist/\n",
        "DEFAULT_SOURCE_URL = 'https://storage.googleapis.com/cvdf-datasets/mnist/'\n",
        "\n",
        "\n",
        "def _read32(bytestream):\n",
        "  dt = numpy.dtype(numpy.uint32).newbyteorder('>')\n",
        "  return numpy.frombuffer(bytestream.read(4), dtype=dt)[0]\n",
        "\n",
        "\n",
        "@deprecated(None, 'Please use tf.data to implement this functionality.')\n",
        "def _extract_images(f):\n",
        "  \"\"\"Extract the images into a 4D uint8 numpy array [index, y, x, depth].\n",
        "  Args:\n",
        "    f: A file object that can be passed into a gzip reader.\n",
        "  Returns:\n",
        "    data: A 4D uint8 numpy array [index, y, x, depth].\n",
        "  Raises:\n",
        "    ValueError: If the bytestream does not start with 2051.\n",
        "  \"\"\"\n",
        "  print('Extracting', f.name)\n",
        "  with gzip.GzipFile(fileobj=f) as bytestream:\n",
        "    magic = _read32(bytestream)\n",
        "    if magic != 2051:\n",
        "      raise ValueError('Invalid magic number %d in MNIST image file: %s' %\n",
        "                       (magic, f.name))\n",
        "    num_images = _read32(bytestream)\n",
        "    rows = _read32(bytestream)\n",
        "    cols = _read32(bytestream)\n",
        "    buf = bytestream.read(rows * cols * num_images)\n",
        "    data = numpy.frombuffer(buf, dtype=numpy.uint8)\n",
        "    data = data.reshape(num_images, rows, cols, 1)\n",
        "    return data\n",
        "\n",
        "\n",
        "@deprecated(None, 'Please use tf.one_hot on tensors.')\n",
        "def _dense_to_one_hot(labels_dense, num_classes):\n",
        "  \"\"\"Convert class labels from scalars to one-hot vectors.\"\"\"\n",
        "  num_labels = labels_dense.shape[0]\n",
        "  index_offset = numpy.arange(num_labels) * num_classes\n",
        "  labels_one_hot = numpy.zeros((num_labels, num_classes))\n",
        "  labels_one_hot.flat[index_offset + labels_dense.ravel()] = 1\n",
        "  return labels_one_hot\n",
        "\n",
        "\n",
        "@deprecated(None, 'Please use tf.data to implement this functionality.')\n",
        "def _extract_labels(f, one_hot=False, num_classes=10):\n",
        "  \"\"\"Extract the labels into a 1D uint8 numpy array [index].\n",
        "  Args:\n",
        "    f: A file object that can be passed into a gzip reader.\n",
        "    one_hot: Does one hot encoding for the result.\n",
        "    num_classes: Number of classes for the one hot encoding.\n",
        "  Returns:\n",
        "    labels: a 1D uint8 numpy array.\n",
        "  Raises:\n",
        "    ValueError: If the bystream doesn't start with 2049.\n",
        "  \"\"\"\n",
        "  print('Extracting', f.name)\n",
        "  with gzip.GzipFile(fileobj=f) as bytestream:\n",
        "    magic = _read32(bytestream)\n",
        "    if magic != 2049:\n",
        "      raise ValueError('Invalid magic number %d in MNIST label file: %s' %\n",
        "                       (magic, f.name))\n",
        "    num_items = _read32(bytestream)\n",
        "    buf = bytestream.read(num_items)\n",
        "    labels = numpy.frombuffer(buf, dtype=numpy.uint8)\n",
        "    if one_hot:\n",
        "      return _dense_to_one_hot(labels, num_classes)\n",
        "    return labels\n",
        "\n",
        "\n",
        "class _DataSet(object):\n",
        "  \"\"\"Container class for a _DataSet (deprecated).\n",
        "  THIS CLASS IS DEPRECATED.\n",
        "  \"\"\"\n",
        "\n",
        "  @deprecated(None, 'Please use alternatives such as official/mnist/_DataSet.py'\n",
        "              ' from tensorflow/models.')\n",
        "  def __init__(self,\n",
        "               images,\n",
        "               labels,\n",
        "               fake_data=False,\n",
        "               one_hot=False,\n",
        "               dtype=dtypes.float32,\n",
        "               reshape=True,\n",
        "               seed=None):\n",
        "    \"\"\"Construct a _DataSet.\n",
        "    one_hot arg is used only if fake_data is true.  `dtype` can be either\n",
        "    `uint8` to leave the input as `[0, 255]`, or `float32` to rescale into\n",
        "    `[0, 1]`.  Seed arg provides for convenient deterministic testing.\n",
        "    Args:\n",
        "      images: The images\n",
        "      labels: The labels\n",
        "      fake_data: Ignore inages and labels, use fake data.\n",
        "      one_hot: Bool, return the labels as one hot vectors (if True) or ints (if\n",
        "        False).\n",
        "      dtype: Output image dtype. One of [uint8, float32]. `uint8` output has\n",
        "        range [0,255]. float32 output has range [0,1].\n",
        "      reshape: Bool. If True returned images are returned flattened to vectors.\n",
        "      seed: The random seed to use.\n",
        "    \"\"\"\n",
        "    seed1, seed2 = random_seed.get_seed(seed)\n",
        "    # If op level seed is not set, use whatever graph level seed is returned\n",
        "    numpy.random.seed(seed1 if seed is None else seed2)\n",
        "    dtype = dtypes.as_dtype(dtype).base_dtype\n",
        "    if dtype not in (dtypes.uint8, dtypes.float32):\n",
        "      raise TypeError('Invalid image dtype %r, expected uint8 or float32' %\n",
        "                      dtype)\n",
        "    if fake_data:\n",
        "      self._num_examples = 10000\n",
        "      self.one_hot = one_hot\n",
        "    else:\n",
        "      assert images.shape[0] == labels.shape[0], (\n",
        "          'images.shape: %s labels.shape: %s' % (images.shape, labels.shape))\n",
        "      self._num_examples = images.shape[0]\n",
        "\n",
        "      # Convert shape from [num examples, rows, columns, depth]\n",
        "      # to [num examples, rows*columns] (assuming depth == 1)\n",
        "      if reshape:\n",
        "        assert images.shape[3] == 1\n",
        "        images = images.reshape(images.shape[0],\n",
        "                                images.shape[1] * images.shape[2])\n",
        "      if dtype == dtypes.float32:\n",
        "        # Convert from [0, 255] -> [0.0, 1.0].\n",
        "        images = images.astype(numpy.float32)\n",
        "        images = numpy.multiply(images, 1.0 / 255.0)\n",
        "    self._images = images\n",
        "    self._labels = labels\n",
        "    self._epochs_completed = 0\n",
        "    self._index_in_epoch = 0\n",
        "\n",
        "  @property\n",
        "  def images(self):\n",
        "    return self._images\n",
        "\n",
        "  @property\n",
        "  def labels(self):\n",
        "    return self._labels\n",
        "\n",
        "  @property\n",
        "  def num_examples(self):\n",
        "    return self._num_examples\n",
        "\n",
        "  @property\n",
        "  def epochs_completed(self):\n",
        "    return self._epochs_completed\n",
        "\n",
        "  def next_batch(self, batch_size, fake_data=False, shuffle=True):\n",
        "    \"\"\"Return the next `batch_size` examples from this data set.\"\"\"\n",
        "    if fake_data:\n",
        "      fake_image = [1] * 784\n",
        "      if self.one_hot:\n",
        "        fake_label = [1] + [0] * 9\n",
        "      else:\n",
        "        fake_label = 0\n",
        "      return [fake_image for _ in xrange(batch_size)\n",
        "             ], [fake_label for _ in xrange(batch_size)]\n",
        "    start = self._index_in_epoch\n",
        "    # Shuffle for the first epoch\n",
        "    if self._epochs_completed == 0 and start == 0 and shuffle:\n",
        "      perm0 = numpy.arange(self._num_examples)\n",
        "      numpy.random.shuffle(perm0)\n",
        "      self._images = self.images[perm0]\n",
        "      self._labels = self.labels[perm0]\n",
        "    # Go to the next epoch\n",
        "    if start + batch_size > self._num_examples:\n",
        "      # Finished epoch\n",
        "      self._epochs_completed += 1\n",
        "      # Get the rest examples in this epoch\n",
        "      rest_num_examples = self._num_examples - start\n",
        "      images_rest_part = self._images[start:self._num_examples]\n",
        "      labels_rest_part = self._labels[start:self._num_examples]\n",
        "      # Shuffle the data\n",
        "      if shuffle:\n",
        "        perm = numpy.arange(self._num_examples)\n",
        "        numpy.random.shuffle(perm)\n",
        "        self._images = self.images[perm]\n",
        "        self._labels = self.labels[perm]\n",
        "      # Start next epoch\n",
        "      start = 0\n",
        "      self._index_in_epoch = batch_size - rest_num_examples\n",
        "      end = self._index_in_epoch\n",
        "      images_new_part = self._images[start:end]\n",
        "      labels_new_part = self._labels[start:end]\n",
        "      return numpy.concatenate((images_rest_part, images_new_part),\n",
        "                               axis=0), numpy.concatenate(\n",
        "                                   (labels_rest_part, labels_new_part), axis=0)\n",
        "    else:\n",
        "      self._index_in_epoch += batch_size\n",
        "      end = self._index_in_epoch\n",
        "      return self._images[start:end], self._labels[start:end]\n",
        "\n",
        "\n",
        "@deprecated(None, 'Please write your own downloading logic.')\n",
        "def _maybe_download(filename, work_directory, source_url):\n",
        "  \"\"\"Download the data from source url, unless it's already here.\n",
        "  Args:\n",
        "      filename: string, name of the file in the directory.\n",
        "      work_directory: string, path to working directory.\n",
        "      source_url: url to download from if file doesn't exist.\n",
        "  Returns:\n",
        "      Path to resulting file.\n",
        "  \"\"\"\n",
        "  if not gfile.Exists(work_directory):\n",
        "    gfile.MakeDirs(work_directory)\n",
        "  filepath = os.path.join(work_directory, filename)\n",
        "  if not gfile.Exists(filepath):\n",
        "    urllib.request.urlretrieve(source_url, filepath)\n",
        "    with gfile.GFile(filepath) as f:\n",
        "      size = f.size()\n",
        "    print('Successfully downloaded', filename, size, 'bytes.')\n",
        "  return filepath\n",
        "\n",
        "\n",
        "@deprecated(None, 'Please use alternatives such as:'\n",
        "            ' tensorflow_datasets.load(\\'mnist\\')')\n",
        "def read_data_sets(train_dir,\n",
        "                   fake_data=False,\n",
        "                   one_hot=False,\n",
        "                   dtype=dtypes.float32,\n",
        "                   reshape=True,\n",
        "                   validation_size=5000,\n",
        "                   seed=None,\n",
        "                   source_url=DEFAULT_SOURCE_URL):\n",
        "  if fake_data:\n",
        "\n",
        "    def fake():\n",
        "      return _DataSet([], [],\n",
        "                      fake_data=True,\n",
        "                      one_hot=one_hot,\n",
        "                      dtype=dtype,\n",
        "                      seed=seed)\n",
        "\n",
        "    train = fake()\n",
        "    validation = fake()\n",
        "    test = fake()\n",
        "    return _Datasets(train=train, validation=validation, test=test)\n",
        "\n",
        "  if not source_url:  # empty string check\n",
        "    source_url = DEFAULT_SOURCE_URL\n",
        "\n",
        "  train_images_file = 'train-images-idx3-ubyte.gz'\n",
        "  train_labels_file = 'train-labels-idx1-ubyte.gz'\n",
        "  test_images_file = 't10k-images-idx3-ubyte.gz'\n",
        "  test_labels_file = 't10k-labels-idx1-ubyte.gz'\n",
        "\n",
        "  local_file = _maybe_download(train_images_file, train_dir,\n",
        "                               source_url + train_images_file)\n",
        "  with gfile.Open(local_file, 'rb') as f:\n",
        "    train_images = _extract_images(f)\n",
        "\n",
        "  local_file = _maybe_download(train_labels_file, train_dir,\n",
        "                               source_url + train_labels_file)\n",
        "  with gfile.Open(local_file, 'rb') as f:\n",
        "    train_labels = _extract_labels(f, one_hot=one_hot)\n",
        "\n",
        "  local_file = _maybe_download(test_images_file, train_dir,\n",
        "                               source_url + test_images_file)\n",
        "  with gfile.Open(local_file, 'rb') as f:\n",
        "    test_images = _extract_images(f)\n",
        "\n",
        "  local_file = _maybe_download(test_labels_file, train_dir,\n",
        "                               source_url + test_labels_file)\n",
        "  with gfile.Open(local_file, 'rb') as f:\n",
        "    test_labels = _extract_labels(f, one_hot=one_hot)\n",
        "\n",
        "  if not 0 <= validation_size <= len(train_images):\n",
        "    raise ValueError(\n",
        "        'Validation size should be between 0 and {}. Received: {}.'.format(\n",
        "            len(train_images), validation_size))\n",
        "\n",
        "  validation_images = train_images[:validation_size]\n",
        "  validation_labels = train_labels[:validation_size]\n",
        "  train_images = train_images[validation_size:]\n",
        "  train_labels = train_labels[validation_size:]\n",
        "\n",
        "  options = dict(dtype=dtype, reshape=reshape, seed=seed)\n",
        "\n",
        "  train = _DataSet(train_images, train_labels, **options)\n",
        "  validation = _DataSet(validation_images, validation_labels, **options)\n",
        "  test = _DataSet(test_images, test_labels, **options)\n",
        "\n",
        "  return _Datasets(train=train, validation=validation, test=test)"
      ],
      "execution_count": 0,
      "outputs": []
    },
    {
      "cell_type": "code",
      "metadata": {
        "colab_type": "code",
        "id": "3BshiewAbfPU",
        "scrolled": true,
        "colab": {}
      },
      "source": [
        "import numpy as np,sys,time\n",
        "from sklearn.utils import shuffle\n",
        "import matplotlib\n",
        "import tensorflow as tf\n",
        "import tensorflow_datasets\n",
        "import os\n",
        "import numpy as np,sys\n",
        "from sklearn.utils import shuffle\n",
        "import matplotlib.pyplot as plt\n",
        "import matplotlib.gridspec as gridspec"
      ],
      "execution_count": 0,
      "outputs": []
    },
    {
      "cell_type": "code",
      "metadata": {
        "colab_type": "code",
        "id": "ZffTWt8ZbfPo",
        "colab": {}
      },
      "source": [
        "batch_size = 128\n",
        "def ReLu(x):\n",
        "    mask = (x>0) * 1.0\n",
        "    return (mask *x).reshape(x.shape[0],x.shape[1])\n",
        "def d_ReLu(x):\n",
        "    mask = (x>0) * 1.0\n",
        "    return mask.reshape(x.shape[0],x.shape[1])\n",
        "\n",
        "def Lrelu(x):\n",
        "#    alpha = 0.0001\n",
        "#    return np.where(x > 0, x, x * alpha) \n",
        "    y1 = ((x > 0) * x)                                                 \n",
        "    y2 = ((x <= 0) * x * 0.01)                                         \n",
        "    return (y1 + y2)\n",
        "def d_Lrelu(x,alpha = 0.01):\n",
        "  dx = np.ones_like(x)\n",
        "  dx[x < 0] = alpha\n",
        "  return dx\n",
        "def arctan(x):\n",
        "    return np.arctan(x)\n",
        "def d_arctan(x):\n",
        "    return (1 / (1 + x ** 2))\n",
        "\n",
        "def log(x):\n",
        "    return (1 / ( 1+ np.exp(-1*x)))\n",
        "def d_log(x):\n",
        "    return log(x) * (1 - log(x))\n",
        "\n",
        "def tanh(x):\n",
        "    return np.tanh(x).reshape(x.shape[0],x.shape[1])\n",
        "def d_tanh(x):\n",
        "    return (1 - np.tanh(x) ** 2)\n",
        "\n",
        "def plot(samples, title):\n",
        "    print(len(samples))\n",
        "    plt.figure(figsize=(4, 4))\n",
        "    gs = gridspec.GridSpec(10, 10)\n",
        "    gs.update(wspace=0.05, hspace=0.05)\n",
        "\n",
        "    for i, sample in enumerate(samples):\n",
        "        ax = plt.subplot(gs[i])\n",
        "        plt.axis('off')\n",
        "        ax.set_xticklabels([])\n",
        "        ax.set_yticklabels([])\n",
        "        ax.set_aspect('equal')\n",
        "        plt.title(title)\n",
        "        sample_resized = sample.reshape(batch_size, 28, 28)\n",
        "        # plt.imshow(sample.reshape(5, 28, 28), cmap='Greys_r')\n",
        "        plt.imshow(sample_resized[0], cmap='Greys_r')\n",
        "    plt.show()\n",
        "def plots(samples, title):\n",
        "    print(len(samples))\n",
        "    plt.figure()\n",
        "    gs = gridspec.GridSpec(4,4)\n",
        "    gs.update(wspace=0.05, hspace=0.05)\n",
        "    for i, sample in enumerate(samples):\n",
        "        ax = plt.subplot(gs[i])\n",
        "        plt.axis('off')\n",
        "        ax.set_xticklabels([])\n",
        "        ax.set_yticklabels([])\n",
        "        ax.set_aspect('equal')\n",
        "        sample_resized = sample.reshape(28, 28)\n",
        "        # plt.imshow(sample.reshape(5, 28, 28), cmap='Greys_r')\n",
        "        plt.imshow(sample_resized, cmap='Greys_r')\n",
        "    plt.show()"
      ],
      "execution_count": 0,
      "outputs": []
    },
    {
      "cell_type": "code",
      "metadata": {
        "colab_type": "code",
        "id": "aPAKJeiAbfP4",
        "colab": {}
      },
      "source": [
        "# random_numer = 1222 #int(input(\"Please Input a Random Number to Seed\"))\n",
        "# np.random.seed(random_numer)\n"
      ],
      "execution_count": 0,
      "outputs": []
    },
    {
      "cell_type": "code",
      "metadata": {
        "colab_type": "code",
        "id": "Ulnl3-qYbfQH",
        "outputId": "f76ef0e9-1660-4a61-8ed9-58eafcf80198",
        "scrolled": true,
        "colab": {
          "base_uri": "https://localhost:8080/",
          "height": 454
        }
      },
      "source": [
        "# 1. Load Data and declare hyper\n",
        "print('--------- Load Data ----------')\n",
        "mnist = read_data_sets('MNIST_data', one_hot=False)\n",
        "temp = mnist.test\n",
        "images, labels = temp.images, temp.labels\n",
        "images, labels = shuffle(np.asarray(images),np.asarray(labels))\n",
        "num_epoch = 50\n",
        "learing_rate = 0.00002\n",
        "learing_rate2 = 0.00002\n",
        "G_input = 100\n",
        "hidden_input,hidden_input2,hidden_input3 = 128,256,346\n",
        "hidden_input4,hidden_input5,hidden_input6 = 480,560,686\n",
        "hidden_input7,hidden_input8,hidden_input9 = 800,1020,1400\n",
        "hidden_input10 = 1800"
      ],
      "execution_count": 4,
      "outputs": [
        {
          "output_type": "stream",
          "text": [
            "--------- Load Data ----------\n",
            "WARNING:tensorflow:From <ipython-input-4-7ac0ac0f4408>:2: read_data_sets (from __main__) is deprecated and will be removed in a future version.\n",
            "Instructions for updating:\n",
            "Please use alternatives such as: tensorflow_datasets.load('mnist')\n",
            "WARNING:tensorflow:From <ipython-input-1-03a9021563ce>:267: _maybe_download (from __main__) is deprecated and will be removed in a future version.\n",
            "Instructions for updating:\n",
            "Please write your own downloading logic.\n",
            "Successfully downloaded train-images-idx3-ubyte.gz 9912422 bytes.\n",
            "WARNING:tensorflow:From <ipython-input-1-03a9021563ce>:269: _extract_images (from __main__) is deprecated and will be removed in a future version.\n",
            "Instructions for updating:\n",
            "Please use tf.data to implement this functionality.\n",
            "Extracting MNIST_data/train-images-idx3-ubyte.gz\n",
            "Successfully downloaded train-labels-idx1-ubyte.gz 28881 bytes.\n",
            "WARNING:tensorflow:From <ipython-input-1-03a9021563ce>:274: _extract_labels (from __main__) is deprecated and will be removed in a future version.\n",
            "Instructions for updating:\n",
            "Please use tf.data to implement this functionality.\n",
            "Extracting MNIST_data/train-labels-idx1-ubyte.gz\n",
            "Successfully downloaded t10k-images-idx3-ubyte.gz 1648877 bytes.\n",
            "Extracting MNIST_data/t10k-images-idx3-ubyte.gz\n",
            "Successfully downloaded t10k-labels-idx1-ubyte.gz 4542 bytes.\n",
            "Extracting MNIST_data/t10k-labels-idx1-ubyte.gz\n",
            "WARNING:tensorflow:From <ipython-input-1-03a9021563ce>:298: _DataSet.__init__ (from __main__) is deprecated and will be removed in a future version.\n",
            "Instructions for updating:\n",
            "Please use alternatives such as official/mnist/_DataSet.py from tensorflow/models.\n"
          ],
          "name": "stdout"
        }
      ]
    },
    {
      "cell_type": "code",
      "metadata": {
        "colab_type": "code",
        "id": "nh1txYT4bfQT",
        "outputId": "b3d4565d-7579-445b-e737-9ce5ea993a3a",
        "colab": {
          "base_uri": "https://localhost:8080/",
          "height": 35
        }
      },
      "source": [
        "print('--------- Declare Hyper Parameters ----------')\n",
        "D_W1 = np.random.normal(size=(784,hidden_input),scale=(1. / np.sqrt(784 / 2.)))   *0.002\n",
        "# D_b1 = np.random.normal(size=(128),scale=(1. / np.sqrt(128 / 2.)))       *0.002\n",
        "D_b1 = np.zeros(hidden_input).reshape(1,hidden_input)\n",
        "\n",
        "D_W2 = np.random.normal(size=(hidden_input,hidden_input2),scale=(1. / np.sqrt(hidden_input / 2.)))   *0.002\n",
        "# G_b1 = np.random.normal(size=(128),scale=(1. / np.sqrt(128 / 2.)))      *0.002\n",
        "D_b2 = np.zeros(hidden_input2).reshape(1,hidden_input2)\n",
        "\n",
        "D_W3 = np.random.normal(size=(hidden_input2,hidden_input3),scale=(1. / np.sqrt(hidden_input2 / 2.)))   *0.002\n",
        "# G_b1 = np.random.normal(size=(128),scale=(1. / np.sqrt(128 / 2.)))      *0.002\n",
        "D_b3 = np.zeros(hidden_input3).reshape(1,hidden_input3)\n",
        "\n",
        "D_W4 = np.random.normal(size=(hidden_input3,1),scale=(1. / np.sqrt(hidden_input / 2.)))     *0.002\n",
        "# D_b2 = np.random.normal(size=(1),scale=(1. / np.sqrt(1 / 2.)))           *0.002\n",
        "D_b4 = np.zeros(1).reshape(1,1)\n",
        "\n",
        "\n",
        "G_W1 = np.random.normal(size=(G_input,hidden_input),scale=(1. / np.sqrt(G_input / 2.)))   *0.002\n",
        "# G_b1 = np.random.normal(size=(128),scale=(1. / np.sqrt(128 / 2.)))      *0.002\n",
        "G_b1 = np.zeros(hidden_input).reshape(1,hidden_input)\n",
        "\n",
        "G_W2 = np.random.normal(size=(hidden_input,hidden_input2),scale=(1. / np.sqrt(hidden_input / 2.)))   *0.002\n",
        "# G_b1 = np.random.normal(size=(128),scale=(1. / np.sqrt(128 / 2.)))      *0.002\n",
        "G_b2 = np.zeros(hidden_input2).reshape(1,hidden_input2)\n",
        "\n",
        "G_W3 = np.random.normal(size=(hidden_input2,hidden_input3),scale=(1. / np.sqrt(hidden_input2 / 2.)))   *0.002\n",
        "# G_b1 = np.random.normal(size=(128),scale=(1. / np.sqrt(128 / 2.)))      *0.002\n",
        "G_b3 = np.zeros(hidden_input3).reshape(1,hidden_input3)\n",
        "\n",
        "G_W4 = np.random.normal(size=(hidden_input3,hidden_input4),scale=(1. / np.sqrt(hidden_input3 / 2.)))   *0.002\n",
        "# G_b1 = np.random.normal(size=(128),scale=(1. / np.sqrt(128 / 2.)))      *0.002\n",
        "G_b4 = np.zeros(hidden_input4).reshape(1,hidden_input4)\n",
        "\n",
        "G_W11 = np.random.normal(size=(hidden_input4,784),scale=(1. / np.sqrt(hidden_input4 / 2.)))  *0.002\n",
        "# G_b2 = np.random.normal(size=(784),scale=(1. / np.sqrt(784 / 2.)))      *0.002\n",
        "G_b11 = np.zeros(784).reshape(1,784)\n",
        "# 2. Declare Weights\n",
        "\n",
        "\n",
        "\n",
        "\n",
        "\n",
        "\n",
        "grad_D_w1 = np.zeros(784*hidden_input).reshape(784,hidden_input)\n",
        "grad_D_b1 = np.zeros(hidden_input).reshape(1,hidden_input)\n",
        "\n",
        "grad_D_w2 = np.zeros(hidden_input*hidden_input2).reshape(hidden_input, hidden_input2)\n",
        "grad_D_b2 = np.zeros(hidden_input2).reshape(1,hidden_input2)\n",
        "\n",
        "grad_D_w3 = np.zeros(hidden_input2*hidden_input3).reshape(hidden_input2, hidden_input3)\n",
        "grad_D_b3 = np.zeros(hidden_input3).reshape(1,hidden_input3)\n",
        "\n",
        "grad_D_w4 = np.zeros(hidden_input3).reshape(hidden_input3,1)\n",
        "grad_D_b4 = np.zeros(1).reshape(1,1)\n",
        "\n",
        "\n",
        "\n",
        "\n",
        "grad_g_w1 = np.zeros(G_input*hidden_input).reshape(G_input, hidden_input)\n",
        "grad_g_b1 = np.zeros(hidden_input).reshape(1,hidden_input)\n",
        "\n",
        "grad_g_w2 = np.zeros(hidden_input*hidden_input2).reshape(hidden_input, hidden_input2)\n",
        "grad_g_b2 = np.zeros(hidden_input2).reshape(1,hidden_input2)\n",
        "\n",
        "grad_g_w3 = np.zeros(hidden_input2*hidden_input3).reshape(hidden_input2, hidden_input3)\n",
        "grad_g_b3 = np.zeros(hidden_input3).reshape(1,hidden_input3)\n",
        "\n",
        "grad_g_w4 = np.zeros(hidden_input3*hidden_input4).reshape(hidden_input3, hidden_input4)\n",
        "grad_g_b4 = np.zeros(hidden_input4).reshape(1,hidden_input4)\n",
        "\n",
        "grad_g_w11 = np.zeros(hidden_input4*784).reshape(hidden_input4, 784)\n",
        "grad_g_b11 = np.zeros(784).reshape(1,784)\n",
        "\n"
      ],
      "execution_count": 5,
      "outputs": [
        {
          "output_type": "stream",
          "text": [
            "--------- Declare Hyper Parameters ----------\n"
          ],
          "name": "stdout"
        }
      ]
    },
    {
      "cell_type": "code",
      "metadata": {
        "colab_type": "code",
        "id": "efhLIYTtbfQn",
        "colab": {}
      },
      "source": [
        "\n",
        "# 3. For Adam Optimzier\n",
        "m1w1,m1b1 = 0,0\n",
        "m2w2,m2b2 = 0,0\n",
        "m3w3,m3b3 = 0,0\n",
        "m4w4,m4b4 = 0,0\n",
        "\n",
        "v1w1,v1b1 = 0,0\n",
        "v2w2,v2b2 = 0,0\n",
        "v3w3,v3b3 = 0,0\n",
        "v4w4,v4b4 = 0,0\n",
        "\n",
        "v5,m5 = 0,0\n",
        "v6,m6 = 0,0\n",
        "v7,m7 = 0,0\n",
        "v8,m8 = 0,0\n",
        "v9,m9 = 0,0\n",
        "v10,m10 = 0,0\n",
        "v11,m11 = 0,0\n",
        "v12,m12 = 0,0\n",
        "v13,m13 = 0,0\n",
        "v14,m14 = 0,0\n",
        "v15,m15 = 0,0\n",
        "v16,m16 = 0,0\n",
        "v17,m17 = 0,0\n",
        "v18,m18 = 0,0\n",
        "v19,m19 = 0,0\n",
        "v20,m20 = 0,0\n",
        "v21,m21 = 0,0\n",
        "v22,m22 = 0,0\n",
        "v23,m23 = 0,0\n",
        "v24,m24 = 0,0\n",
        "v25,m25 = 0,0\n",
        "v26,m26 = 0,0\n"
      ],
      "execution_count": 0,
      "outputs": []
    },
    {
      "cell_type": "code",
      "metadata": {
        "colab_type": "code",
        "id": "iYhaQBh8bfQy",
        "colab": {}
      },
      "source": [
        "beta_1,beta_2,eps = 0.5,0.5,0.000001\n",
        "D_list_cost = []\n",
        "G_list_cost = []\n",
        "forwardPropGen1 = []\n",
        "forwardPropGen2 = []\n",
        "forwardPropDisc1 = []\n",
        "forwardPropDisc2 = []\n",
        "forwardPropDisc3 = []\n",
        "backwardPropGen = []\n",
        "backwardPropDisc = []\n",
        "gradientComputeDisc1 = []\n",
        "gradientComputeDisc2 = []\n",
        "gradientComputeGen = []\n",
        "def dropout1():\n",
        "    return np.random.normal(size=(hidden_input2,),scale=0.2)\n",
        "def dropout2():\n",
        "    return np.random.normal(size=(hidden_input3,),scale=0.2)"
      ],
      "execution_count": 0,
      "outputs": []
    },
    {
      "cell_type": "code",
      "metadata": {
        "id": "T-BDK4OlWLGM",
        "colab_type": "code",
        "colab": {}
      },
      "source": [
        "def dupli_bias(bias, batch_size):\n",
        "  return np.tile(bias, (batch_size, 1)).reshape(batch_size,bias.shape[1])"
      ],
      "execution_count": 0,
      "outputs": []
    },
    {
      "cell_type": "code",
      "metadata": {
        "id": "C9TaGvlfRiKC",
        "colab_type": "code",
        "colab": {}
      },
      "source": [
        "import torch\n",
        "import torch.nn as nn\n",
        "import torch.nn.functional as F\n",
        "from torch.autograd import Variable\n",
        "import numpy as np\n",
        "import math\n",
        "import matplotlib.pyplot as plt\n",
        "from torch.optim import Optimizer\n",
        "import torchvision.utils as vutils\n",
        "import torchvision\n",
        "import torchvision.transforms as transforms"
      ],
      "execution_count": 0,
      "outputs": []
    },
    {
      "cell_type": "code",
      "metadata": {
        "id": "tltNk0tcR44t",
        "colab_type": "code",
        "outputId": "b747b64f-ff2f-4eeb-c569-ae6442141949",
        "colab": {
          "base_uri": "https://localhost:8080/",
          "height": 35
        }
      },
      "source": [
        "D_b1.shape"
      ],
      "execution_count": 10,
      "outputs": [
        {
          "output_type": "execute_result",
          "data": {
            "text/plain": [
              "(1, 128)"
            ]
          },
          "metadata": {
            "tags": []
          },
          "execution_count": 10
        }
      ]
    },
    {
      "cell_type": "code",
      "metadata": {
        "id": "C4-ojuMORpag",
        "colab_type": "code",
        "outputId": "5e18f6a2-647f-48a5-cbba-bc08fcea7610",
        "colab": {
          "base_uri": "https://localhost:8080/",
          "height": 345,
          "referenced_widgets": [
            "67123ac35ffc4311944e2ea30f6e5c1d",
            "e6dc47b5a36643eba012a47dcee36330",
            "d73a32ffeca64d6b89925a2416f2af8b",
            "0b158b9b58224b9fb3b1051d8eefc615",
            "373fc9564d5e4ad792e7099280de3c9a",
            "e6399b5076394382a21c94d82f45bdf1",
            "4ea7747b371b473d89c0e0a749da7f2d",
            "3dd9d552d04d43b4bf83f7429e2fb638",
            "9b07f1f38503482fba564dbd9f355c3b",
            "e824fb2b66b545089937a1522c8cf61a",
            "7dcda7f57de34a66b7addd37e7906030",
            "695cffe74dcb41e397302067d3a17c2a",
            "8f2eccd1b3fb466a8cfcc843d3fd6b71",
            "c0c3c66019854140bc9691d11600a8c0",
            "6857af43f54b4d96a6eedbc66cf2262d",
            "365d73d220d74b82ae82b08a3be46472",
            "412deda983e343f48501e4014e39bc91",
            "c7506da6d65e49c5bbcadbd58c0d0ceb",
            "2b9e2367259b4c629b2556c8e09090f6",
            "13e403d189fd419c9e681de84b9ca434",
            "e3044419832f4b32829ab70ac356098b",
            "85cf4e664bde408493ded96f10ba31f9",
            "71a49496c85e4537b125e742d12bac19",
            "33298e745b87490ca8ecce6964a48d38",
            "77df114732904bccb358fe75d5a6d1cd",
            "1cfe85f06c244212a14040ba1b6143a7",
            "12e70af63f784223be73cfb8c3c7a450",
            "da0e7921fa8741f981ec3df350aa8e5a",
            "dcde51620340409d977b3c3a374b2932",
            "efea50a7334940a999ac46347b201a8e",
            "492ed8c9d5974892a0699d9dc2a3e9b8",
            "e57bb01cd78c49ed8cc92885de9b5618"
          ]
        }
      },
      "source": [
        "transform = transforms.Compose(\n",
        "    [transforms.ToTensor(),\n",
        "    transforms.Normalize([0.5],[0.5])])\n",
        "#Make range of image from 0-1 to -1,1. So that you can use tanh while producing fake image in Generator(tanh rules!!)\n",
        "\n",
        "###########CHANGE BATCH SIZE HERE\n",
        "batch_size = 128\n",
        "trainset = torchvision.datasets.MNIST(root='./data', train=True,\n",
        "                                        download=True, transform=transform)\n",
        "trainloader = torch.utils.data.DataLoader(trainset, batch_size=batch_size,\n",
        "                                          shuffle=True, num_workers=1,pin_memory=True)\n",
        "\n",
        "testset = torchvision.datasets.MNIST(root='./data', train=False,\n",
        "                                       download=True, transform=transform)\n",
        "testloader = torch.utils.data.DataLoader(testset, batch_size=batch_size,\n",
        "                                         shuffle=False, num_workers=1,pin_memory=True)\n",
        "device = torch.device(\"cuda:0\" if (torch.cuda.is_available()) else \"cpu\")"
      ],
      "execution_count": 11,
      "outputs": [
        {
          "output_type": "stream",
          "text": [
            "Downloading http://yann.lecun.com/exdb/mnist/train-images-idx3-ubyte.gz to ./data/MNIST/raw/train-images-idx3-ubyte.gz\n"
          ],
          "name": "stdout"
        },
        {
          "output_type": "display_data",
          "data": {
            "application/vnd.jupyter.widget-view+json": {
              "model_id": "67123ac35ffc4311944e2ea30f6e5c1d",
              "version_minor": 0,
              "version_major": 2
            },
            "text/plain": [
              "HBox(children=(IntProgress(value=1, bar_style='info', max=1), HTML(value='')))"
            ]
          },
          "metadata": {
            "tags": []
          }
        },
        {
          "output_type": "stream",
          "text": [
            "Extracting ./data/MNIST/raw/train-images-idx3-ubyte.gz to ./data/MNIST/raw\n",
            "Downloading http://yann.lecun.com/exdb/mnist/train-labels-idx1-ubyte.gz to ./data/MNIST/raw/train-labels-idx1-ubyte.gz\n"
          ],
          "name": "stdout"
        },
        {
          "output_type": "display_data",
          "data": {
            "application/vnd.jupyter.widget-view+json": {
              "model_id": "9b07f1f38503482fba564dbd9f355c3b",
              "version_minor": 0,
              "version_major": 2
            },
            "text/plain": [
              "HBox(children=(IntProgress(value=1, bar_style='info', max=1), HTML(value='')))"
            ]
          },
          "metadata": {
            "tags": []
          }
        },
        {
          "output_type": "stream",
          "text": [
            "Extracting ./data/MNIST/raw/train-labels-idx1-ubyte.gz to ./data/MNIST/raw\n",
            "Downloading http://yann.lecun.com/exdb/mnist/t10k-images-idx3-ubyte.gz to ./data/MNIST/raw/t10k-images-idx3-ubyte.gz\n",
            "\n"
          ],
          "name": "stdout"
        },
        {
          "output_type": "display_data",
          "data": {
            "application/vnd.jupyter.widget-view+json": {
              "model_id": "412deda983e343f48501e4014e39bc91",
              "version_minor": 0,
              "version_major": 2
            },
            "text/plain": [
              "HBox(children=(IntProgress(value=1, bar_style='info', max=1), HTML(value='')))"
            ]
          },
          "metadata": {
            "tags": []
          }
        },
        {
          "output_type": "stream",
          "text": [
            "Extracting ./data/MNIST/raw/t10k-images-idx3-ubyte.gz to ./data/MNIST/raw\n",
            "Downloading http://yann.lecun.com/exdb/mnist/t10k-labels-idx1-ubyte.gz to ./data/MNIST/raw/t10k-labels-idx1-ubyte.gz\n"
          ],
          "name": "stdout"
        },
        {
          "output_type": "display_data",
          "data": {
            "application/vnd.jupyter.widget-view+json": {
              "model_id": "77df114732904bccb358fe75d5a6d1cd",
              "version_minor": 0,
              "version_major": 2
            },
            "text/plain": [
              "HBox(children=(IntProgress(value=1, bar_style='info', max=1), HTML(value='')))"
            ]
          },
          "metadata": {
            "tags": []
          }
        },
        {
          "output_type": "stream",
          "text": [
            "Extracting ./data/MNIST/raw/t10k-labels-idx1-ubyte.gz to ./data/MNIST/raw\n",
            "Processing...\n",
            "Done!\n"
          ],
          "name": "stdout"
        }
      ]
    },
    {
      "cell_type": "code",
      "metadata": {
        "colab_type": "code",
        "id": "sIXkEq74bfQ7",
        "outputId": "5006b9e3-e908-4be4-e464-d6e336daeadf",
        "colab": {
          "base_uri": "https://localhost:8080/",
          "height": 1000
        }
      },
      "source": [
        "print('--------- Started Training ----------')\n",
        "current_images = []\n",
        "current_fake_images = []\n",
        "batch_cost = []\n",
        "\n",
        "for iter in range(1,1000):\n",
        "  for i,data in enumerate(trainloader):\n",
        "    inp,op = data\n",
        "    inp = inp.to(device)\n",
        "    current_images = np.asarray(inp.reshape(inp.shape[0],28*28))\n",
        "    # current_images = np.array([])\n",
        "    # current_fake_images = np.array([])\n",
        "    # # print(current_fake_images.shape)\n",
        "    # random_int = [ np.random.randint(len(images) - 5) for i in range(batch_size) ]\n",
        "    \n",
        "    # current_image = [np.expand_dims(images[i],axis=0) for i in random_int]\n",
        "    \n",
        "    # current_images = np.vstack(current_image)\n",
        "\n",
        "    # Func: Generate The first Fake Data\n",
        "    # fake_images = []\n",
        "    \n",
        "    # for i in range(5):\n",
        "    Z = np.random.normal(0., 1., size=[batch_size, G_input])\n",
        "    \n",
        "    tic = time.time()\n",
        "    Gl1 = Z.dot(G_W1) + dupli_bias(G_b1, batch_size)\n",
        "    Gl1A = Lrelu(Gl1)\n",
        "    Gl2 = Gl1A.dot(G_W2) + dupli_bias(G_b2, batch_size)\n",
        "    Gl2A = Lrelu(Gl2)\n",
        "    Gl3 = Gl2A.dot(G_W3) + dupli_bias(G_b3, batch_size)\n",
        "    Gl3A = Lrelu(Gl3)\n",
        "    Gl4 = Gl3A.dot(G_W4) + dupli_bias(G_b4, batch_size)\n",
        "    Gl4A = Lrelu(Gl4)\n",
        "  \n",
        "    Gl11 = Gl4A.dot(G_W11) + dupli_bias(G_b11, batch_size)\n",
        "    current_fake_data = log(Gl11)\n",
        "    toc = time.time()\n",
        "    \n",
        "    forwardPropGen1.append((toc-tic)*1000)\n",
        "    #print(\"stuff: \", current_fake_data.shape)\n",
        "    # fake_images.append(current_fake_data)\n",
        "    # print(\"shape of fake image: \", current_fake_data.shape)\n",
        "    # current_fake_images.append(current_fake_data)\n",
        "\n",
        "    # current_fake_images = np.vstack((fake_images[0], fake_images[1], fake_images[2], fake_images[3], fake_images[4]))\n",
        "    # print(\"shape of fake image: \", current_fake_images.shape)\n",
        "\n",
        "    # Func: Forward Feed for Real data\n",
        "    # Dl1_r = current_image.dot(D_W1) + D_b1\n",
        "    tic = time.time()\n",
        "    Dl1_r = current_images.dot(D_W1) + dupli_bias(D_b1, batch_size)\n",
        "    Dl1_rA = Lrelu(Dl1_r)\n",
        "    Dl2_r = Dl1_rA.dot(D_W2) + dupli_bias(D_b2, batch_size)  + dropout1()\n",
        "    Dl2_rA = Lrelu(Dl2_r)\n",
        "    Dl3_r = Dl2_rA.dot(D_W3) + dupli_bias(D_b3, batch_size) + dropout2()\n",
        "    Dl3_rA = Lrelu(Dl3_r)\n",
        "    Dl4_r = Dl3_rA.dot(D_W4) + dupli_bias(D_b4, batch_size)\n",
        "    Dl4_rA = log(Dl4_r)\n",
        "    toc=time.time()\n",
        "    forwardPropDisc1.append((toc-tic)*1000)\n",
        "    # Func: Forward Feed for Fake Data\n",
        "    tic = time.time()\n",
        "    Dl1_f = current_fake_data.dot(D_W1) + dupli_bias(D_b1, batch_size)\n",
        "    Dl1_fA = Lrelu(Dl1_f)\n",
        "    Dl2_f = Dl1_fA.dot(D_W2) + dupli_bias(D_b2, batch_size) + dropout1()\n",
        "    Dl2_fA = Lrelu(Dl2_f)\n",
        "    Dl3_f = Dl2_fA.dot(D_W3) + dupli_bias(D_b3, batch_size) + dropout2()\n",
        "    Dl3_fA = Lrelu(Dl3_f)\n",
        "    Dl4_f = Dl3_fA.dot(D_W4) + dupli_bias(D_b4, batch_size)\n",
        "    Dl4_fA = log(Dl4_f)\n",
        "    toc = time.time()\n",
        "    forwardPropDisc2.append((toc-tic)*1000)\n",
        "    # Func: Cost D\n",
        "    \n",
        "\n",
        "    D_cost = np.mean(-( np.log(Dl4_rA) +  np.log(1.0- Dl4_fA)))\n",
        "    D_list_cost.append(D_cost)\n",
        "    # batch_cost.append(D_cost[0[0]])\n",
        "    fBatch = Dl4_fA\n",
        "    rBatch = Dl4_rA\n",
        "    totgradFake = 0\n",
        "    tic = time.time()\n",
        "    for batch_item in range(0,batch_size):\n",
        "\n",
        "      grad_r_w4_part_1 =  (-1/((1-rBatch[batch_item])+ eps)).reshape(1,1)\n",
        "      grad_r_w4_part_2 =  d_log(Dl4_r[batch_item]).reshape(1,1)\n",
        "      grad_r_w4_part_3 =   Dl3_rA[batch_item].reshape(1,hidden_input3)\n",
        "      grad_r_w4 =     (grad_r_w4_part_3.T.dot(grad_r_w4_part_1 * grad_r_w4_part_2)).reshape(hidden_input3,1) \n",
        "      grad_r_b4 = grad_r_w4_part_1 * grad_r_w4_part_2\n",
        "\n",
        "      grad_D_w4 = np.add(grad_D_w4,grad_r_w4)\n",
        "      grad_D_b4 = np.add(grad_D_b4,grad_r_b4)\n",
        "\n",
        "      grad_r_w3_part_1 =  (grad_r_w4_part_1 * grad_r_w4_part_2).dot(D_W4.T)\n",
        "      grad_r_w3_part_2 =  d_Lrelu(Dl3_r[batch_item])\n",
        "      grad_r_w3_part_3 =   Dl2_rA[batch_item].reshape(1,hidden_input2)\n",
        "      grad_r_w3 =       grad_r_w3_part_3.T.dot(grad_r_w3_part_1 * grad_r_w3_part_2) \n",
        "      grad_r_b3 =      grad_r_w3_part_1 * grad_r_w3_part_2\n",
        "      \n",
        "      grad_D_w3 = np.add(grad_D_w3, grad_r_w3)\n",
        "      grad_D_b3 = np.add(grad_D_b3, grad_r_b3)\n",
        "\n",
        "      grad_r_w2_part_1 = (grad_r_w3_part_1 * grad_r_w3_part_2).dot(D_W3.T)\n",
        "      grad_r_w2_part_2 = d_Lrelu(Dl2_r[batch_item])\n",
        "      grad_r_w2_part_3 = Dl1_rA[batch_item].reshape(1, hidden_input)\n",
        "      grad_r_w2 = grad_r_w2_part_3.T.dot(grad_r_w2_part_1 * grad_r_w2_part_2)\n",
        "      grad_r_b2 = (grad_r_w2_part_1 * grad_r_w2_part_2)\n",
        "\n",
        "      grad_D_w2 = np.add(grad_D_w2, grad_r_w2)\n",
        "      grad_D_b2 = np.add(grad_D_b2, grad_r_b2)\n",
        "      \n",
        "      grad_r_w1_part_1 = (grad_r_w2_part_1 * grad_r_w2_part_2).dot(D_W2.T)\n",
        "      grad_r_w1_part_2 = d_Lrelu(Dl1_r[batch_item])\n",
        "      grad_r_w1_part_3 = current_images[batch_item].reshape(1,784)\n",
        "      grad_r_w1 = grad_r_w1_part_3.T.dot(grad_r_w1_part_1 * grad_r_w1_part_2)\n",
        "      grad_r_b1 = grad_r_w1_part_1 * grad_r_w1_part_2\n",
        "\n",
        "      grad_D_w1 = np.add(grad_D_w1, grad_r_w1)\n",
        "      grad_D_b1 = np.add(grad_D_b1, grad_r_b1)\n",
        "\n",
        "    toc = time.time()\n",
        "    \n",
        "    gradientComputeDisc1.append((toc-tic)*1000)\n",
        "\n",
        "    tic = time.time()\n",
        "    for batch_item in range(0,batch_size):\n",
        "\n",
        "      grad_f_w4_part_1 =  (-1/((1-fBatch[batch_item])+ eps)).reshape(1,1)\n",
        "      grad_f_w4_part_2 =  d_log(Dl4_f[batch_item]).reshape(1,1)\n",
        "      grad_f_w4_part_3 =   Dl3_rA[batch_item].reshape(1,hidden_input3)\n",
        "      grad_f_w4 =     (grad_f_w4_part_3.T.dot(grad_f_w4_part_1 * grad_f_w4_part_2)).reshape(hidden_input3,1) \n",
        "      grad_f_b4 = grad_r_w4_part_1 * grad_r_w4_part_2\n",
        "\n",
        "      grad_D_w4 = np.add(grad_D_w4,grad_f_w4)\n",
        "      grad_D_b4 = np.add(grad_D_b4,grad_f_b4)\n",
        "\n",
        "\n",
        "      grad_f_w3_part_1 =  (grad_f_w4_part_1 * grad_f_w4_part_2).dot(D_W4.T)\n",
        "      grad_f_w3_part_2 =  d_Lrelu(Dl3_f[batch_item])\n",
        "      grad_f_w3_part_3 =   Dl2_fA[batch_item].reshape(1,hidden_input2)\n",
        "      grad_f_w3 =       grad_f_w3_part_3.T.dot(grad_f_w3_part_1 * grad_f_w3_part_2) \n",
        "      grad_f_b3 =      grad_f_w3_part_1 * grad_f_w3_part_2\n",
        "      \n",
        "      grad_D_w3 = np.add(grad_D_w3, grad_f_w3)\n",
        "      grad_D_b3 = np.add(grad_D_b3, grad_f_b3)\n",
        "\n",
        "      grad_f_w2_part_1 = (grad_f_w3_part_1 * grad_f_w3_part_2).dot(D_W3.T)\n",
        "      grad_f_w2_part_2 = d_Lrelu(Dl2_f[batch_item])\n",
        "      grad_f_w2_part_3 = Dl1_fA[batch_item].reshape(1, hidden_input)\n",
        "      grad_f_w2 = grad_f_w2_part_3.T.dot(grad_f_w2_part_1 * grad_f_w2_part_2)\n",
        "      grad_f_b2 = (grad_f_w2_part_1 * grad_f_w2_part_2)\n",
        "\n",
        "      grad_D_w2 = np.add(grad_D_w2, grad_r_w2)\n",
        "      grad_D_b2 = np.add(grad_D_b2, grad_r_b2)\n",
        "      \n",
        "      grad_f_w1_part_1 = (grad_f_w2_part_1 * grad_f_w2_part_2).dot(D_W2.T)\n",
        "      grad_f_w1_part_2 = d_Lrelu(Dl1_f[batch_item])\n",
        "      grad_f_w1_part_3 = current_images[batch_item].reshape(1,784)\n",
        "      grad_f_w1 = grad_f_w1_part_3.T.dot(grad_f_w1_part_1 * grad_f_w1_part_2)\n",
        "      grad_f_b1 = grad_f_w1_part_1 * grad_f_w1_part_2\n",
        "\n",
        "      grad_D_w1 = np.add(grad_D_w1, grad_f_w1)\n",
        "      grad_D_b1 = np.add(grad_D_b1, grad_f_b1)\n",
        "\n",
        "    toc = time.time()\n",
        "    \n",
        "    gradientComputeDisc2.append((toc-tic)*1000)\n",
        "    #LATER\n",
        "    \n",
        "    \n",
        "    tic = time.time()\n",
        "    grad_w1 = grad_D_w1\n",
        "    grad_w2 =grad_D_w2\n",
        "    grad_w3 =grad_D_w3\n",
        "    grad_w4 =grad_D_w4\n",
        "\n",
        "    grad_b1 =grad_D_b1\n",
        "    grad_b2 =grad_D_b2\n",
        "    grad_b3 =grad_D_b3\n",
        "    grad_b4 =grad_D_b4\n",
        "\n",
        "\n",
        "    print(\"W4 before\", D_W4.shape)\n",
        "    # ---- Update Gradient ----\n",
        "    m1w1 = beta_1 * m1w1 + (1 - beta_1) * grad_w1\n",
        "    v1w1 = beta_2 * v1w1 + (1 - beta_2) * grad_w1 ** 2\n",
        "    \n",
        "    m2w2 = beta_1 * m2w2 + (1 - beta_1) * grad_w2\n",
        "    v2w2 = beta_2 * v2w2 + (1 - beta_2) * grad_w2 ** 2\n",
        "    \n",
        "    m3w3 = beta_1 * m3w3 + (1 - beta_1) * grad_w3\n",
        "    v3w3 = beta_2 * v3w3 + (1 - beta_2) * grad_w3 ** 2\n",
        "    \n",
        "    m4w4 = beta_1 * m4w4 + (1 - beta_1) * grad_w4\n",
        "    v4w4 = beta_2 * v4w4 + (1 - beta_2) * grad_w4 ** 2\n",
        "    \n",
        "    m1b1 = beta_1 * m1b1 + (1 - beta_1) * grad_b1\n",
        "    v1b1 = beta_2 * v1b1 + (1 - beta_2) * grad_b1 ** 2\n",
        "    \n",
        "    m2b2 = beta_1 * m2b2 + (1 - beta_1) * grad_b2\n",
        "    v2b2 = beta_2 * v2b2 + (1 - beta_2) * grad_b2 ** 2\n",
        "    \n",
        "    m3b3 = beta_1 * m3b3 + (1 - beta_1) * grad_b3\n",
        "    v3b3 = beta_2 * v3b3 + (1 - beta_2) * grad_b3 ** 2\n",
        "    \n",
        "    m4b4 = beta_1 * m4b4 + (1 - beta_1) * grad_b4\n",
        "    v4b4 = beta_2 * v4b4 + (1 - beta_2) * grad_b4 ** 2\n",
        "\n",
        "    print(\"M$V$\",m4w4.shape)\n",
        "    D_W1 = D_W1 - (learing_rate2 / (np.sqrt(v1w1 /(1-beta_2**iter )) + eps)) * (m1w1/(1-beta_1**iter)  + eps)\n",
        "    D_b1 = D_b1 - (learing_rate2 / (np.sqrt(v1b1 /(1-beta_2**iter )) + eps)) * (m1b1/(1-beta_1**iter)  + eps)\n",
        "        \n",
        "    D_W2 = D_W2 - (learing_rate2 / (np.sqrt(v2w2 /(1-beta_2**iter )) + eps)) * (m2w2/(1-beta_1**iter)  + eps)\n",
        "    D_b2 = D_b2 - (learing_rate2 / (np.sqrt(v2b2 /(1-beta_2**iter )) + eps)) * (m2b2/(1-beta_1**iter)  + eps)\n",
        "    \n",
        "  \n",
        "    D_W3 = D_W3 - (learing_rate2 / (np.sqrt(v3w3 /(1-beta_2**iter )) + eps)) * (m3w3/(1-beta_1**iter)  + eps)\n",
        "    D_b3 = D_b3 - (learing_rate2 / (np.sqrt(v3b3 /(1-beta_2**iter )) + eps)) * (m3b3/(1-beta_1**iter)  + eps)\n",
        "\n",
        "    D_W4 = D_W4 - (learing_rate2 / (np.sqrt(v4w4 /(1-beta_2**iter )) + eps)) * (m4w4/(1-beta_1**iter)  + eps)\n",
        "    D_b4 = D_b4 - (learing_rate2 / (np.sqrt(v4b4 /(1-beta_2**iter )) + eps)) * (m4b4/(1-beta_1**iter)  + eps)\n",
        "\n",
        "    print(\"W4 after\", D_W4.shape)\n",
        "\n",
        "    toc = time.time()\n",
        "    backwardPropDisc.append((toc-tic)*1000)\n",
        "    #current_images = np.delete(current_images, [0,1,2,3,4])\n",
        "    # current_fake_images = np.delete(current_fake_images, [0,1,2,3,4])\n",
        "    # batch_cost = []\n",
        "\n",
        "    # Func: Forward Feed for G\n",
        "    # fake_images = []\n",
        "    if(i%3==0):\n",
        "        tic = time.time()\n",
        "\n",
        "        Gl1 = Z.dot(G_W1) + dupli_bias(G_b1, batch_size)\n",
        "        Gl1A = Lrelu(Gl1)\n",
        "        Gl2 = Gl1A.dot(G_W2) + dupli_bias(G_b2, batch_size)\n",
        "        Gl2A = Lrelu(Gl2)\n",
        "        Gl3 = Gl2A.dot(G_W3) + dupli_bias(G_b3, batch_size)\n",
        "        Gl3A = Lrelu(Gl3)\n",
        "        Gl4 = Gl3A.dot(G_W4) + dupli_bias(G_b4, batch_size)\n",
        "        Gl4A = Lrelu(Gl4)\n",
        "    \n",
        "        Gl11 = Gl4A.dot(G_W11) + dupli_bias(G_b11, batch_size)\n",
        "        current_fake_data = log(Gl11)\n",
        "\n",
        "        toc = time.time()\n",
        "\n",
        "        forwardPropGen2.append((toc-tic)*1000)\n",
        "\n",
        "        tic = time.time()\n",
        "        Dl1 = current_fake_data.dot(D_W1) + dupli_bias(D_b1, batch_size)\n",
        "        Dl1_A = Lrelu(Dl1)\n",
        "        Dl2 = Dl1_A.dot(D_W2) + dupli_bias(D_b2, batch_size) + dropout1()\n",
        "        Dl2_A = Lrelu(Dl2)\n",
        "        Dl3 = Dl2_A.dot(D_W3) + dupli_bias(D_b3, batch_size) + dropout2()\n",
        "        Dl3_A = Lrelu(Dl3)\n",
        "        Dl4 = Dl3_A.dot(D_W4) + dupli_bias(D_b4, batch_size)\n",
        "        Dl4_A = log(Dl4)\n",
        "        toc = time.time()\n",
        "\n",
        "        forwardPropDisc3.append((toc - tic)*1000)\n",
        "        # Func: Cost G\n",
        "        G_cost = np.mean(-np.log(Dl4_A))\n",
        "        G_list_cost.append(G_cost)\n",
        "        # batch_cost.append(G_cost[0][0])\n",
        "\n",
        "        tic = time.time()\n",
        "\n",
        "        for batch_item in range(0,batch_size):\n",
        "          grad_G_w11_part_1 = ((((((( (-1/(Dl4_A[batch_item] + eps)) * d_log(Dl4[batch_item]).dot(D_W4.T) * (d_Lrelu(Dl3[batch_item])) ).dot(D_W3.T) * (d_Lrelu(Dl2[batch_item]))).dot(D_W2.T)))* (d_Lrelu(Dl1[batch_item])))).dot(D_W1.T)).reshape(1,784)\n",
        "          grad_G_w11_part_2 = d_log(Gl11[batch_item])\n",
        "          grad_G_w11_part_3 = Gl4A[batch_item].reshape(1,hidden_input4)\n",
        "          grad_G_w11 = grad_G_w11_part_3.T.dot(grad_G_w11_part_1 * grad_G_w11_part_1)\n",
        "          grad_G_b11 = grad_G_w11_part_1 * grad_G_w11_part_2\n",
        "\n",
        "          grad_g_w11 = np.add(grad_g_w11,grad_G_w11)\n",
        "          grad_g_b11 = np.add(grad_g_b11,grad_G_b11)\n",
        "\n",
        "\n",
        "          grad_G_w4_part_1 = (grad_G_w11_part_1 * grad_G_w11_part_2).dot(G_W11.T)\n",
        "          grad_G_w4_part_2 = d_Lrelu(Gl4[batch_item])\n",
        "          grad_G_w4_part_3 = Gl3A[batch_item].reshape(1,hidden_input3)\n",
        "          grad_G_w4 = grad_G_w4_part_3.T.dot(grad_G_w4_part_1 * grad_G_w4_part_2)\n",
        "          grad_G_b4 = (grad_G_w4_part_1 * grad_G_w4_part_2)\n",
        "\n",
        "          grad_g_w4 = np.add(grad_g_w4,grad_G_w4)\n",
        "          grad_g_b4 = np.add(grad_g_b4,grad_G_b4)\n",
        "\n",
        "          grad_G_w3_part_1 = (grad_G_w4_part_1 * grad_G_w4_part_2).dot(G_W4.T)\n",
        "          grad_G_w3_part_2 = d_Lrelu(Gl3[batch_item])\n",
        "          grad_G_w3_part_3 = Gl2A[batch_item].reshape(1,hidden_input2)\n",
        "          grad_G_w3 = grad_G_w3_part_3.T.dot(grad_G_w3_part_1 * grad_G_w3_part_2)\n",
        "          grad_G_b3 = (grad_G_w3_part_1 * grad_G_w3_part_2)\n",
        "\n",
        "          grad_g_w3 = np.add(grad_g_w3,grad_G_w3)\n",
        "          grad_g_b3 = np.add(grad_g_b3,grad_G_b3)\n",
        "\n",
        "          grad_G_w2_part_1 = (grad_G_w3_part_1 * grad_G_w3_part_2).dot(G_W3.T)\n",
        "          grad_G_w2_part_2 = d_Lrelu(Gl2[batch_item])\n",
        "          grad_G_w2_part_3 = Gl1A[batch_item].reshape(1,hidden_input)\n",
        "          grad_G_w2 = grad_G_w2_part_3.T.dot(grad_G_w2_part_1 * grad_G_w2_part_2)\n",
        "          grad_G_b2 = (grad_G_w2_part_1 * grad_G_w2_part_2)\n",
        "\n",
        "          grad_g_w2 = np.add(grad_g_w2,grad_G_w2)\n",
        "          grad_g_b2 = np.add(grad_g_b2,grad_G_b2)\n",
        "\n",
        "          grad_G_w1_part_1 = (grad_G_w2_part_1 * grad_G_w2_part_2).dot(G_W2.T)\n",
        "          grad_G_w1_part_2 = d_Lrelu(Gl1[batch_item])\n",
        "          grad_G_w1_part_3 = Z[batch_item].reshape(1,100)\n",
        "          grad_G_w1 = grad_G_w1_part_3.T.dot(grad_G_w1_part_1 * grad_G_w1_part_2)\n",
        "          grad_G_b1 = grad_G_w1_part_1 * grad_G_w1_part_2\n",
        "\n",
        "          grad_g_w1 = np.add(grad_g_w1,grad_G_w1)\n",
        "          grad_g_b1 = np.add(grad_g_b1,grad_G_b1)\n",
        "\n",
        "          \n",
        "\n",
        "\n",
        "        toc = time.time()\n",
        "        gradientComputeGen.append((toc-tic)*1000)\n",
        "        # ---- Update Gradient ----\n",
        "\n",
        "        tic = time.time()\n",
        "        m5 = beta_1 * m5 + (1 - beta_1) * grad_g_w1\n",
        "        v5 = beta_2 * v5 + (1 - beta_2) * grad_g_w1 ** 2\n",
        "\n",
        "        m6 = beta_1 * m6 + (1 - beta_1) * grad_g_b1\n",
        "        v6 = beta_2 * v6 + (1 - beta_2) * grad_g_b1 ** 2\n",
        "\n",
        "        m7 = beta_1 * m7 + (1 - beta_1) * grad_g_w2\n",
        "        v7 = beta_2 * v7 + (1 - beta_2) * grad_g_w2 ** 2\n",
        "\n",
        "        m8 = beta_1 * m8 + (1 - beta_1) * grad_g_b2\n",
        "        v8 = beta_2 * v8 + (1 - beta_2) * grad_g_b2 ** 2\n",
        "\n",
        "        m9 = beta_1 * m9 + (1 - beta_1) * grad_g_w3\n",
        "        v9 = beta_2 * v9 + (1 - beta_2) * grad_g_w3 ** 2\n",
        "\n",
        "        m10 = beta_1 * m10 + (1 - beta_1) * grad_g_b3\n",
        "        v10 = beta_2 * v10 + (1 - beta_2) * grad_g_b3 ** 2\n",
        "\n",
        "        m11 = beta_1 * m11 + (1 - beta_1) * grad_g_w4\n",
        "        v11 = beta_2 * v11 + (1 - beta_2) * grad_g_w4 ** 2\n",
        "\n",
        "        m12 = beta_1 * m12 + (1 - beta_1) * grad_g_b4\n",
        "        v12 = beta_2 * v12 + (1 - beta_2) * grad_g_b4 ** 2\n",
        "\n",
        "   \n",
        "\n",
        "        m25 = beta_1 * m25 + (1 - beta_1) * grad_g_w11\n",
        "        v25 = beta_2 * v25 + (1 - beta_2) * grad_g_w11 ** 2\n",
        "\n",
        "        m26 = beta_1 * m26 + (1 - beta_1) * grad_g_b11\n",
        "        v26 = beta_2 * v26 + (1 - beta_2) * grad_g_b11 ** 2\n",
        "\n",
        "\n",
        "        G_W1 = G_W1 - (learing_rate / (np.sqrt(v5 /(1-beta_2**iter )) + eps)) * (m5/(1-beta_1**iter)  + eps)\n",
        "        G_b1 = G_b1 - (learing_rate / (np.sqrt(v6 /(1-beta_2**iter )) + eps)) * (m6/(1-beta_1**iter)  + eps)\n",
        "\n",
        "        G_W2 = G_W2 - (learing_rate / (np.sqrt(v7 /(1-beta_2**iter )) + eps)) * (m7/(1-beta_1**iter)  + eps)\n",
        "        G_b2 = G_b2 - (learing_rate / (np.sqrt(v8 /(1-beta_2**iter )) + eps)) * (m8/(1-beta_1**iter)  + eps)\n",
        "\n",
        "        G_W3 = G_W3 - (learing_rate / (np.sqrt(v9 /(1-beta_2**iter )) + eps)) * (m9/(1-beta_1**iter)  + eps)\n",
        "        G_b3 = G_b3 - (learing_rate / (np.sqrt(v10 /(1-beta_2**iter )) + eps)) * (m10/(1-beta_1**iter)  + eps)\n",
        "\n",
        "        G_W4 = G_W4 - (learing_rate / (np.sqrt(v11 /(1-beta_2**iter )) + eps)) * (m11/(1-beta_1**iter)  + eps)\n",
        "        G_b4 = G_b4 - (learing_rate / (np.sqrt(v12 /(1-beta_2**iter )) + eps)) * (m12/(1-beta_1**iter)  + eps)\n",
        "\n",
        "   \n",
        "\n",
        "        G_W11 = G_W11 - (learing_rate / (np.sqrt(v25 /(1-beta_2**iter )) + eps)) * (m25/(1-beta_1**iter)  + eps)\n",
        "        G_b11 = G_b11 - (learing_rate / (np.sqrt(v26 /(1-beta_2**iter )) + eps)) * (m26/(1-beta_1**iter)  + eps)\n",
        "\n",
        "        # random_data = np.delete(random_data,[0,1,2,3,4,5])\n",
        "        toc = time.time()\n",
        "\n",
        "        backwardPropGen.append((toc-tic)*1000)\n",
        "    print(\"Current Epoch: \",iter, \" Current Iter:\",i, \" Current D cost:\",D_cost, \" Current G cost: \", G_cost)\n",
        "    \n",
        "    if i%5 == 0:\n",
        "        Z = np.random.normal(0., 1., size=[16, G_input]) \n",
        "        Gl1 = Z.dot(G_W1) + dupli_bias(G_b1, 16)\n",
        "        Gl1A = Lrelu(Gl1)\n",
        "        Gl2 = Gl1A.dot(G_W2) + dupli_bias(G_b2, 16)\n",
        "        Gl2A = Lrelu(Gl2)\n",
        "        Gl3 = Gl2A.dot(G_W3) + dupli_bias(G_b3, 16)\n",
        "        Gl3A = Lrelu(Gl3)\n",
        "        Gl4 = Gl3A.dot(G_W4) + dupli_bias(G_b4, 16)\n",
        "        Gl4A = Lrelu(Gl4)\n",
        " \n",
        "        Gl11 = Gl4A.dot(G_W11) + dupli_bias(G_b11, 16)\n",
        "        current_fake_data = log(Gl11)\n",
        "        plots(current_fake_data,\"TITLE\")\n",
        "    # ---- Print to Out put ----\n",
        "# -- end code --"
      ],
      "execution_count": 0,
      "outputs": [
        {
          "output_type": "stream",
          "text": [
            "\n",
            "\n",
            "\n",
            "--------- Started Training ----------\n",
            "W4 before (346, 1)\n",
            "M$V$ (346, 1)\n",
            "W4 after (346, 1)\n",
            "Current Epoch:  1  Current Iter: 0  Current D cost: 1.3857906869445427  Current G cost:  0.6927743670131298\n",
            "16\n"
          ],
          "name": "stdout"
        },
        {
          "output_type": "display_data",
          "data": {
            "image/png": "[encoded data removed]",
            "text/plain": [
              "<Figure size 432x288 with 16 Axes>"
            ]
          },
          "metadata": {
            "tags": []
          }
        },
        {
          "output_type": "stream",
          "text": [
            "W4 before (346, 1)\n",
            "M$V$ (346, 1)\n",
            "W4 after (346, 1)\n",
            "Current Epoch:  1  Current Iter: 1  Current D cost: 1.3866429900607553  Current G cost:  0.6927743670131298\n",
            "W4 before (346, 1)\n",
            "M$V$ (346, 1)\n",
            "W4 after (346, 1)\n",
            "Current Epoch:  1  Current Iter: 2  Current D cost: 1.3862357323590397  Current G cost:  0.6927743670131298\n",
            "W4 before (346, 1)\n",
            "M$V$ (346, 1)\n",
            "W4 after (346, 1)\n",
            "Current Epoch:  1  Current Iter: 3  Current D cost: 1.38620552652479  Current G cost:  0.692119133594249\n",
            "W4 before (346, 1)\n",
            "M$V$ (346, 1)\n",
            "W4 after (346, 1)\n",
            "Current Epoch:  1  Current Iter: 4  Current D cost: 1.3863141678153705  Current G cost:  0.692119133594249\n",
            "W4 before (346, 1)\n",
            "M$V$ (346, 1)\n",
            "W4 after (346, 1)\n",
            "Current Epoch:  1  Current Iter: 5  Current D cost: 1.3866007706817127  Current G cost:  0.692119133594249\n",
            "16\n"
          ],
          "name": "stdout"
        },
        {
          "output_type": "display_data",
          "data": {
            "image/png": "[encoded data removed]",
            "text/plain": [
              "<Figure size 432x288 with 16 Axes>"
            ]
          },
          "metadata": {
            "tags": []
          }
        },
        {
          "output_type": "stream",
          "text": [
            "W4 before (346, 1)\n",
            "M$V$ (346, 1)\n",
            "W4 after (346, 1)\n",
            "Current Epoch:  1  Current Iter: 6  Current D cost: 1.3869059716584924  Current G cost:  0.6917538722600283\n",
            "W4 before (346, 1)\n",
            "M$V$ (346, 1)\n",
            "W4 after (346, 1)\n",
            "Current Epoch:  1  Current Iter: 7  Current D cost: 1.3861511629836811  Current G cost:  0.6917538722600283\n",
            "W4 before (346, 1)\n",
            "M$V$ (346, 1)\n",
            "W4 after (346, 1)\n",
            "Current Epoch:  1  Current Iter: 8  Current D cost: 1.386096604428546  Current G cost:  0.6917538722600283\n",
            "W4 before (346, 1)\n",
            "M$V$ (346, 1)\n",
            "W4 after (346, 1)\n",
            "Current Epoch:  1  Current Iter: 9  Current D cost: 1.3866958233188895  Current G cost:  0.6898472756232998\n",
            "W4 before (346, 1)\n",
            "M$V$ (346, 1)\n",
            "W4 after (346, 1)\n",
            "Current Epoch:  1  Current Iter: 10  Current D cost: 1.3866557671667348  Current G cost:  0.6898472756232998\n",
            "16\n"
          ],
          "name": "stdout"
        },
        {
          "output_type": "display_data",
          "data": {
            "image/png": "[encoded data removed]",
            "text/plain": [
              "<Figure size 432x288 with 16 Axes>"
            ]
          },
          "metadata": {
            "tags": []
          }
        },
        {
          "output_type": "stream",
          "text": [
            "W4 before (346, 1)\n",
            "M$V$ (346, 1)\n",
            "W4 after (346, 1)\n",
            "Current Epoch:  1  Current Iter: 11  Current D cost: 1.3863162993983447  Current G cost:  0.6898472756232998\n",
            "W4 before (346, 1)\n",
            "M$V$ (346, 1)\n",
            "W4 after (346, 1)\n",
            "Current Epoch:  1  Current Iter: 12  Current D cost: 1.3859414802735568  Current G cost:  0.6880220738563961\n",
            "W4 before (346, 1)\n",
            "M$V$ (346, 1)\n",
            "W4 after (346, 1)\n",
            "Current Epoch:  1  Current Iter: 13  Current D cost: 1.3870274031403222  Current G cost:  0.6880220738563961\n",
            "W4 before (346, 1)\n",
            "M$V$ (346, 1)\n",
            "W4 after (346, 1)\n",
            "Current Epoch:  1  Current Iter: 14  Current D cost: 1.3854919346241807  Current G cost:  0.6880220738563961\n",
            "W4 before (346, 1)\n",
            "M$V$ (346, 1)\n",
            "W4 after (346, 1)\n",
            "Current Epoch:  1  Current Iter: 15  Current D cost: 1.385991182446832  Current G cost:  0.687861754955465\n",
            "16\n"
          ],
          "name": "stdout"
        },
        {
          "output_type": "display_data",
          "data": {
            "image/png": "[encoded data removed]",
            "text/plain": [
              "<Figure size 432x288 with 16 Axes>"
            ]
          },
          "metadata": {
            "tags": []
          }
        },
        {
          "output_type": "stream",
          "text": [
            "W4 before (346, 1)\n",
            "M$V$ (346, 1)\n",
            "W4 after (346, 1)\n",
            "Current Epoch:  1  Current Iter: 16  Current D cost: 1.3864179720299108  Current G cost:  0.687861754955465\n",
            "W4 before (346, 1)\n",
            "M$V$ (346, 1)\n",
            "W4 after (346, 1)\n",
            "Current Epoch:  1  Current Iter: 17  Current D cost: 1.386429216954301  Current G cost:  0.687861754955465\n",
            "W4 before (346, 1)\n",
            "M$V$ (346, 1)\n",
            "W4 after (346, 1)\n",
            "Current Epoch:  1  Current Iter: 18  Current D cost: 1.3853261337553946  Current G cost:  0.6859057968976513\n",
            "W4 before (346, 1)\n",
            "M$V$ (346, 1)\n",
            "W4 after (346, 1)\n",
            "Current Epoch:  1  Current Iter: 19  Current D cost: 1.3873608764741352  Current G cost:  0.6859057968976513\n",
            "W4 before (346, 1)\n",
            "M$V$ (346, 1)\n",
            "W4 after (346, 1)\n",
            "Current Epoch:  1  Current Iter: 20  Current D cost: 1.384131912939245  Current G cost:  0.6859057968976513\n",
            "16\n"
          ],
          "name": "stdout"
        },
        {
          "output_type": "display_data",
          "data": {
            "image/png": "[encoded data removed]",
            "text/plain": [
              "<Figure size 432x288 with 16 Axes>"
            ]
          },
          "metadata": {
            "tags": []
          }
        },
        {
          "output_type": "stream",
          "text": [
            "W4 before (346, 1)\n",
            "M$V$ (346, 1)\n",
            "W4 after (346, 1)\n",
            "Current Epoch:  1  Current Iter: 21  Current D cost: 1.3856432131550243  Current G cost:  0.6856387308220443\n",
            "W4 before (346, 1)\n",
            "M$V$ (346, 1)\n",
            "W4 after (346, 1)\n",
            "Current Epoch:  1  Current Iter: 22  Current D cost: 1.3846395088829104  Current G cost:  0.6856387308220443\n",
            "W4 before (346, 1)\n",
            "M$V$ (346, 1)\n",
            "W4 after (346, 1)\n",
            "Current Epoch:  1  Current Iter: 23  Current D cost: 1.3858061255898448  Current G cost:  0.6856387308220443\n",
            "W4 before (346, 1)\n",
            "M$V$ (346, 1)\n",
            "W4 after (346, 1)\n",
            "Current Epoch:  1  Current Iter: 24  Current D cost: 1.3859360819274504  Current G cost:  0.6810514668631898\n",
            "W4 before (346, 1)\n",
            "M$V$ (346, 1)\n",
            "W4 after (346, 1)\n",
            "Current Epoch:  1  Current Iter: 25  Current D cost: 1.3873155880322146  Current G cost:  0.6810514668631898\n",
            "16\n"
          ],
          "name": "stdout"
        },
        {
          "output_type": "display_data",
          "data": {
            "image/png": "[encoded data removed]",
            "text/plain": [
              "<Figure size 432x288 with 16 Axes>"
            ]
          },
          "metadata": {
            "tags": []
          }
        },
        {
          "output_type": "stream",
          "text": [
            "W4 before (346, 1)\n",
            "M$V$ (346, 1)\n",
            "W4 after (346, 1)\n",
            "Current Epoch:  1  Current Iter: 26  Current D cost: 1.3839089763917414  Current G cost:  0.6810514668631898\n",
            "W4 before (346, 1)\n",
            "M$V$ (346, 1)\n",
            "W4 after (346, 1)\n",
            "Current Epoch:  1  Current Iter: 27  Current D cost: 1.3865810425594844  Current G cost:  0.6828346092633344\n",
            "W4 before (346, 1)\n",
            "M$V$ (346, 1)\n",
            "W4 after (346, 1)\n",
            "Current Epoch:  1  Current Iter: 28  Current D cost: 1.3866752310994324  Current G cost:  0.6828346092633344\n",
            "W4 before (346, 1)\n",
            "M$V$ (346, 1)\n",
            "W4 after (346, 1)\n",
            "Current Epoch:  1  Current Iter: 29  Current D cost: 1.3869634702220273  Current G cost:  0.6828346092633344\n",
            "W4 before (346, 1)\n",
            "M$V$ (346, 1)\n",
            "W4 after (346, 1)\n",
            "Current Epoch:  1  Current Iter: 30  Current D cost: 1.3865175825602636  Current G cost:  0.6809266294644557\n",
            "16\n"
          ],
          "name": "stdout"
        },
        {
          "output_type": "display_data",
          "data": {
            "image/png": "[encoded data removed]",
            "text/plain": [
              "<Figure size 432x288 with 16 Axes>"
            ]
          },
          "metadata": {
            "tags": []
          }
        },
        {
          "output_type": "stream",
          "text": [
            "W4 before (346, 1)\n",
            "M$V$ (346, 1)\n",
            "W4 after (346, 1)\n",
            "Current Epoch:  1  Current Iter: 31  Current D cost: 1.3860889018314797  Current G cost:  0.6809266294644557\n",
            "W4 before (346, 1)\n",
            "M$V$ (346, 1)\n",
            "W4 after (346, 1)\n",
            "Current Epoch:  1  Current Iter: 32  Current D cost: 1.384065402457562  Current G cost:  0.6809266294644557\n",
            "W4 before (346, 1)\n",
            "M$V$ (346, 1)\n",
            "W4 after (346, 1)\n",
            "Current Epoch:  1  Current Iter: 33  Current D cost: 1.3885934945257339  Current G cost:  0.6788908660062737\n",
            "W4 before (346, 1)\n",
            "M$V$ (346, 1)\n",
            "W4 after (346, 1)\n",
            "Current Epoch:  1  Current Iter: 34  Current D cost: 1.38943482369123  Current G cost:  0.6788908660062737\n",
            "W4 before (346, 1)\n",
            "M$V$ (346, 1)\n",
            "W4 after (346, 1)\n",
            "Current Epoch:  1  Current Iter: 35  Current D cost: 1.3857130319029363  Current G cost:  0.6788908660062737\n",
            "16\n"
          ],
          "name": "stdout"
        },
        {
          "output_type": "display_data",
          "data": {
            "image/png": "[encoded data removed]",
            "text/plain": [
              "<Figure size 432x288 with 16 Axes>"
            ]
          },
          "metadata": {
            "tags": []
          }
        },
        {
          "output_type": "stream",
          "text": [
            "W4 before (346, 1)\n",
            "M$V$ (346, 1)\n",
            "W4 after (346, 1)\n",
            "Current Epoch:  1  Current Iter: 36  Current D cost: 1.3845045198618378  Current G cost:  0.6779593309698695\n",
            "W4 before (346, 1)\n",
            "M$V$ (346, 1)\n",
            "W4 after (346, 1)\n",
            "Current Epoch:  1  Current Iter: 37  Current D cost: 1.3881262758745267  Current G cost:  0.6779593309698695\n",
            "W4 before (346, 1)\n",
            "M$V$ (346, 1)\n",
            "W4 after (346, 1)\n",
            "Current Epoch:  1  Current Iter: 38  Current D cost: 1.3841725046117346  Current G cost:  0.6779593309698695\n",
            "W4 before (346, 1)\n",
            "M$V$ (346, 1)\n",
            "W4 after (346, 1)\n",
            "Current Epoch:  1  Current Iter: 39  Current D cost: 1.386849620287323  Current G cost:  0.6767756230451863\n",
            "W4 before (346, 1)\n",
            "M$V$ (346, 1)\n",
            "W4 after (346, 1)\n",
            "Current Epoch:  1  Current Iter: 40  Current D cost: 1.3890198205502742  Current G cost:  0.6767756230451863\n",
            "16\n"
          ],
          "name": "stdout"
        },
        {
          "output_type": "display_data",
          "data": {
            "image/png": "[encoded data removed]",
            "text/plain": [
              "<Figure size 432x288 with 16 Axes>"
            ]
          },
          "metadata": {
            "tags": []
          }
        },
        {
          "output_type": "stream",
          "text": [
            "W4 before (346, 1)\n",
            "M$V$ (346, 1)\n",
            "W4 after (346, 1)\n",
            "Current Epoch:  1  Current Iter: 41  Current D cost: 1.387087090982463  Current G cost:  0.6767756230451863\n",
            "W4 before (346, 1)\n",
            "M$V$ (346, 1)\n",
            "W4 after (346, 1)\n",
            "Current Epoch:  1  Current Iter: 42  Current D cost: 1.3839363251539905  Current G cost:  0.67650810680081\n",
            "W4 before (346, 1)\n",
            "M$V$ (346, 1)\n",
            "W4 after (346, 1)\n",
            "Current Epoch:  1  Current Iter: 43  Current D cost: 1.386653668849474  Current G cost:  0.67650810680081\n",
            "W4 before (346, 1)\n",
            "M$V$ (346, 1)\n",
            "W4 after (346, 1)\n",
            "Current Epoch:  1  Current Iter: 44  Current D cost: 1.3912979360516156  Current G cost:  0.67650810680081\n",
            "W4 before (346, 1)\n",
            "M$V$ (346, 1)\n",
            "W4 after (346, 1)\n",
            "Current Epoch:  1  Current Iter: 45  Current D cost: 1.3825490070061108  Current G cost:  0.674798401325157\n",
            "16\n"
          ],
          "name": "stdout"
        },
        {
          "output_type": "display_data",
          "data": {
            "image/png": "[encoded data removed]",
            "text/plain": [
              "<Figure size 432x288 with 16 Axes>"
            ]
          },
          "metadata": {
            "tags": []
          }
        },
        {
          "output_type": "stream",
          "text": [
            "W4 before (346, 1)\n",
            "M$V$ (346, 1)\n",
            "W4 after (346, 1)\n",
            "Current Epoch:  1  Current Iter: 46  Current D cost: 1.383481479761148  Current G cost:  0.674798401325157\n",
            "W4 before (346, 1)\n",
            "M$V$ (346, 1)\n",
            "W4 after (346, 1)\n",
            "Current Epoch:  1  Current Iter: 47  Current D cost: 1.3839721517238135  Current G cost:  0.674798401325157\n",
            "W4 before (346, 1)\n",
            "M$V$ (346, 1)\n",
            "W4 after (346, 1)\n",
            "Current Epoch:  1  Current Iter: 48  Current D cost: 1.3840161383295522  Current G cost:  0.6699412191189283\n",
            "W4 before (346, 1)\n",
            "M$V$ (346, 1)\n",
            "W4 after (346, 1)\n",
            "Current Epoch:  1  Current Iter: 49  Current D cost: 1.3860616833199402  Current G cost:  0.6699412191189283\n",
            "W4 before (346, 1)\n",
            "M$V$ (346, 1)\n",
            "W4 after (346, 1)\n",
            "Current Epoch:  1  Current Iter: 50  Current D cost: 1.3868293381310064  Current G cost:  0.6699412191189283\n",
            "16\n"
          ],
          "name": "stdout"
        },
        {
          "output_type": "display_data",
          "data": {
            "image/png": "[encoded data removed]",
            "text/plain": [
              "<Figure size 432x288 with 16 Axes>"
            ]
          },
          "metadata": {
            "tags": []
          }
        },
        {
          "output_type": "stream",
          "text": [
            "W4 before (346, 1)\n",
            "M$V$ (346, 1)\n",
            "W4 after (346, 1)\n",
            "Current Epoch:  1  Current Iter: 51  Current D cost: 1.3858039249899936  Current G cost:  0.6693785101363189\n",
            "W4 before (346, 1)\n",
            "M$V$ (346, 1)\n",
            "W4 after (346, 1)\n",
            "Current Epoch:  1  Current Iter: 52  Current D cost: 1.3779438164630884  Current G cost:  0.6693785101363189\n",
            "W4 before (346, 1)\n",
            "M$V$ (346, 1)\n",
            "W4 after (346, 1)\n",
            "Current Epoch:  1  Current Iter: 53  Current D cost: 1.3813257001694885  Current G cost:  0.6693785101363189\n",
            "W4 before (346, 1)\n",
            "M$V$ (346, 1)\n",
            "W4 after (346, 1)\n",
            "Current Epoch:  1  Current Iter: 54  Current D cost: 1.3852191862100716  Current G cost:  0.6667892921820239\n",
            "W4 before (346, 1)\n",
            "M$V$ (346, 1)\n",
            "W4 after (346, 1)\n",
            "Current Epoch:  1  Current Iter: 55  Current D cost: 1.3845441982580067  Current G cost:  0.6667892921820239\n",
            "16\n"
          ],
          "name": "stdout"
        },
        {
          "output_type": "display_data",
          "data": {
            "image/png": "[encoded data removed]",
            "text/plain": [
              "<Figure size 432x288 with 16 Axes>"
            ]
          },
          "metadata": {
            "tags": []
          }
        },
        {
          "output_type": "stream",
          "text": [
            "W4 before (346, 1)\n",
            "M$V$ (346, 1)\n",
            "W4 after (346, 1)\n",
            "Current Epoch:  1  Current Iter: 56  Current D cost: 1.3884091882674432  Current G cost:  0.6667892921820239\n",
            "W4 before (346, 1)\n",
            "M$V$ (346, 1)\n",
            "W4 after (346, 1)\n",
            "Current Epoch:  1  Current Iter: 57  Current D cost: 1.382076327243098  Current G cost:  0.6690238773904708\n",
            "W4 before (346, 1)\n",
            "M$V$ (346, 1)\n",
            "W4 after (346, 1)\n",
            "Current Epoch:  1  Current Iter: 58  Current D cost: 1.384928972471677  Current G cost:  0.6690238773904708\n",
            "W4 before (346, 1)\n",
            "M$V$ (346, 1)\n",
            "W4 after (346, 1)\n",
            "Current Epoch:  1  Current Iter: 59  Current D cost: 1.378734421467098  Current G cost:  0.6690238773904708\n",
            "W4 before (346, 1)\n",
            "M$V$ (346, 1)\n",
            "W4 after (346, 1)\n",
            "Current Epoch:  1  Current Iter: 60  Current D cost: 1.3855107522111507  Current G cost:  0.6657497574486337\n",
            "16\n"
          ],
          "name": "stdout"
        },
        {
          "output_type": "display_data",
          "data": {
            "image/png": "[encoded data removed]",
            "text/plain": [
              "<Figure size 432x288 with 16 Axes>"
            ]
          },
          "metadata": {
            "tags": []
          }
        },
        {
          "output_type": "stream",
          "text": [
            "W4 before (346, 1)\n",
            "M$V$ (346, 1)\n",
            "W4 after (346, 1)\n",
            "Current Epoch:  1  Current Iter: 61  Current D cost: 1.3840695348479426  Current G cost:  0.6657497574486337\n",
            "W4 before (346, 1)\n",
            "M$V$ (346, 1)\n",
            "W4 after (346, 1)\n",
            "Current Epoch:  1  Current Iter: 62  Current D cost: 1.3817663782850471  Current G cost:  0.6657497574486337\n",
            "W4 before (346, 1)\n",
            "M$V$ (346, 1)\n",
            "W4 after (346, 1)\n",
            "Current Epoch:  1  Current Iter: 63  Current D cost: 1.3776064069593996  Current G cost:  0.6667936290729222\n",
            "W4 before (346, 1)\n",
            "M$V$ (346, 1)\n",
            "W4 after (346, 1)\n",
            "Current Epoch:  1  Current Iter: 64  Current D cost: 1.3829773822206683  Current G cost:  0.6667936290729222\n",
            "W4 before (346, 1)\n",
            "M$V$ (346, 1)\n",
            "W4 after (346, 1)\n",
            "Current Epoch:  1  Current Iter: 65  Current D cost: 1.3766683594758928  Current G cost:  0.6667936290729222\n",
            "16\n"
          ],
          "name": "stdout"
        },
        {
          "output_type": "display_data",
          "data": {
            "image/png": "[encoded data removed]",
            "text/plain": [
              "<Figure size 432x288 with 16 Axes>"
            ]
          },
          "metadata": {
            "tags": []
          }
        },
        {
          "output_type": "stream",
          "text": [
            "W4 before (346, 1)\n",
            "M$V$ (346, 1)\n",
            "W4 after (346, 1)\n",
            "Current Epoch:  1  Current Iter: 66  Current D cost: 1.3762154389015357  Current G cost:  0.6612931752382013\n",
            "W4 before (346, 1)\n",
            "M$V$ (346, 1)\n",
            "W4 after (346, 1)\n",
            "Current Epoch:  1  Current Iter: 67  Current D cost: 1.3773045680072538  Current G cost:  0.6612931752382013\n",
            "W4 before (346, 1)\n",
            "M$V$ (346, 1)\n",
            "W4 after (346, 1)\n",
            "Current Epoch:  1  Current Iter: 68  Current D cost: 1.3763487614463958  Current G cost:  0.6612931752382013\n",
            "W4 before (346, 1)\n",
            "M$V$ (346, 1)\n",
            "W4 after (346, 1)\n",
            "Current Epoch:  1  Current Iter: 69  Current D cost: 1.3768735281409235  Current G cost:  0.6607734141359747\n",
            "W4 before (346, 1)\n",
            "M$V$ (346, 1)\n",
            "W4 after (346, 1)\n",
            "Current Epoch:  1  Current Iter: 70  Current D cost: 1.3740186601386268  Current G cost:  0.6607734141359747\n",
            "16\n"
          ],
          "name": "stdout"
        },
        {
          "output_type": "display_data",
          "data": {
            "image/png": "[encoded data removed]",
            "text/plain": [
              "<Figure size 432x288 with 16 Axes>"
            ]
          },
          "metadata": {
            "tags": []
          }
        },
        {
          "output_type": "stream",
          "text": [
            "W4 before (346, 1)\n",
            "M$V$ (346, 1)\n",
            "W4 after (346, 1)\n",
            "Current Epoch:  1  Current Iter: 71  Current D cost: 1.371637513769826  Current G cost:  0.6607734141359747\n",
            "W4 before (346, 1)\n",
            "M$V$ (346, 1)\n",
            "W4 after (346, 1)\n",
            "Current Epoch:  1  Current Iter: 72  Current D cost: 1.3752931778315458  Current G cost:  0.6601385562637195\n",
            "W4 before (346, 1)\n",
            "M$V$ (346, 1)\n",
            "W4 after (346, 1)\n",
            "Current Epoch:  1  Current Iter: 73  Current D cost: 1.3762366688439758  Current G cost:  0.6601385562637195\n",
            "W4 before (346, 1)\n",
            "M$V$ (346, 1)\n",
            "W4 after (346, 1)\n",
            "Current Epoch:  1  Current Iter: 74  Current D cost: 1.3667683441422074  Current G cost:  0.6601385562637195\n",
            "W4 before (346, 1)\n",
            "M$V$ (346, 1)\n",
            "W4 after (346, 1)\n",
            "Current Epoch:  1  Current Iter: 75  Current D cost: 1.381693254088293  Current G cost:  0.6541325244794913\n",
            "16\n"
          ],
          "name": "stdout"
        },
        {
          "output_type": "display_data",
          "data": {
            "image/png": "[encoded data removed]",
            "text/plain": [
              "<Figure size 432x288 with 16 Axes>"
            ]
          },
          "metadata": {
            "tags": []
          }
        },
        {
          "output_type": "stream",
          "text": [
            "W4 before (346, 1)\n",
            "M$V$ (346, 1)\n",
            "W4 after (346, 1)\n",
            "Current Epoch:  1  Current Iter: 76  Current D cost: 1.3711362681527037  Current G cost:  0.6541325244794913\n",
            "W4 before (346, 1)\n",
            "M$V$ (346, 1)\n",
            "W4 after (346, 1)\n",
            "Current Epoch:  1  Current Iter: 77  Current D cost: 1.3582867763698143  Current G cost:  0.6541325244794913\n",
            "W4 before (346, 1)\n",
            "M$V$ (346, 1)\n",
            "W4 after (346, 1)\n",
            "Current Epoch:  1  Current Iter: 78  Current D cost: 1.3698532979105709  Current G cost:  0.6564140963867724\n",
            "W4 before (346, 1)\n",
            "M$V$ (346, 1)\n",
            "W4 after (346, 1)\n",
            "Current Epoch:  1  Current Iter: 79  Current D cost: 1.3746230235208952  Current G cost:  0.6564140963867724\n",
            "W4 before (346, 1)\n",
            "M$V$ (346, 1)\n",
            "W4 after (346, 1)\n",
            "Current Epoch:  1  Current Iter: 80  Current D cost: 1.3639337881370306  Current G cost:  0.6564140963867724\n",
            "16\n"
          ],
          "name": "stdout"
        },
        {
          "output_type": "display_data",
          "data": {
            "image/png": "[encoded data removed]",
            "text/plain": [
              "<Figure size 432x288 with 16 Axes>"
            ]
          },
          "metadata": {
            "tags": []
          }
        },
        {
          "output_type": "stream",
          "text": [
            "W4 before (346, 1)\n",
            "M$V$ (346, 1)\n",
            "W4 after (346, 1)\n",
            "Current Epoch:  1  Current Iter: 81  Current D cost: 1.3704093872158416  Current G cost:  0.6544260794978258\n",
            "W4 before (346, 1)\n",
            "M$V$ (346, 1)\n",
            "W4 after (346, 1)\n",
            "Current Epoch:  1  Current Iter: 82  Current D cost: 1.3516435676811924  Current G cost:  0.6544260794978258\n",
            "W4 before (346, 1)\n",
            "M$V$ (346, 1)\n",
            "W4 after (346, 1)\n",
            "Current Epoch:  1  Current Iter: 83  Current D cost: 1.3547351923026052  Current G cost:  0.6544260794978258\n",
            "W4 before (346, 1)\n",
            "M$V$ (346, 1)\n",
            "W4 after (346, 1)\n",
            "Current Epoch:  1  Current Iter: 84  Current D cost: 1.358886884212371  Current G cost:  0.6512991225916978\n",
            "W4 before (346, 1)\n",
            "M$V$ (346, 1)\n",
            "W4 after (346, 1)\n",
            "Current Epoch:  1  Current Iter: 85  Current D cost: 1.3554402974535158  Current G cost:  0.6512991225916978\n",
            "16\n"
          ],
          "name": "stdout"
        },
        {
          "output_type": "display_data",
          "data": {
            "image/png": "[encoded data removed]",
            "text/plain": [
              "<Figure size 432x288 with 16 Axes>"
            ]
          },
          "metadata": {
            "tags": []
          }
        },
        {
          "output_type": "stream",
          "text": [
            "W4 before (346, 1)\n",
            "M$V$ (346, 1)\n",
            "W4 after (346, 1)\n",
            "Current Epoch:  1  Current Iter: 86  Current D cost: 1.3531596651998905  Current G cost:  0.6512991225916978\n",
            "W4 before (346, 1)\n",
            "M$V$ (346, 1)\n",
            "W4 after (346, 1)\n",
            "Current Epoch:  1  Current Iter: 87  Current D cost: 1.3458971444340837  Current G cost:  0.6434362084074154\n",
            "W4 before (346, 1)\n",
            "M$V$ (346, 1)\n",
            "W4 after (346, 1)\n",
            "Current Epoch:  1  Current Iter: 88  Current D cost: 1.352292021616371  Current G cost:  0.6434362084074154\n",
            "W4 before (346, 1)\n",
            "M$V$ (346, 1)\n",
            "W4 after (346, 1)\n",
            "Current Epoch:  1  Current Iter: 89  Current D cost: 1.3387381036262083  Current G cost:  0.6434362084074154\n",
            "W4 before (346, 1)\n",
            "M$V$ (346, 1)\n",
            "W4 after (346, 1)\n",
            "Current Epoch:  1  Current Iter: 90  Current D cost: 1.3447203005552009  Current G cost:  0.6554589439942815\n",
            "16\n"
          ],
          "name": "stdout"
        },
        {
          "output_type": "display_data",
          "data": {
            "image/png": "[encoded data removed]",
            "text/plain": [
              "<Figure size 432x288 with 16 Axes>"
            ]
          },
          "metadata": {
            "tags": []
          }
        },
        {
          "output_type": "stream",
          "text": [
            "W4 before (346, 1)\n",
            "M$V$ (346, 1)\n",
            "W4 after (346, 1)\n",
            "Current Epoch:  1  Current Iter: 91  Current D cost: 1.3429039830847347  Current G cost:  0.6554589439942815\n",
            "W4 before (346, 1)\n",
            "M$V$ (346, 1)\n",
            "W4 after (346, 1)\n",
            "Current Epoch:  1  Current Iter: 92  Current D cost: 1.3191969376610855  Current G cost:  0.6554589439942815\n",
            "W4 before (346, 1)\n",
            "M$V$ (346, 1)\n",
            "W4 after (346, 1)\n",
            "Current Epoch:  1  Current Iter: 93  Current D cost: 1.3364673357699108  Current G cost:  0.6477884860712431\n",
            "W4 before (346, 1)\n",
            "M$V$ (346, 1)\n",
            "W4 after (346, 1)\n",
            "Current Epoch:  1  Current Iter: 94  Current D cost: 1.3302066856296801  Current G cost:  0.6477884860712431\n",
            "W4 before (346, 1)\n",
            "M$V$ (346, 1)\n",
            "W4 after (346, 1)\n",
            "Current Epoch:  1  Current Iter: 95  Current D cost: 1.3208978352647414  Current G cost:  0.6477884860712431\n",
            "16\n"
          ],
          "name": "stdout"
        },
        {
          "output_type": "display_data",
          "data": {
            "image/png": "[encoded data removed]",
            "text/plain": [
              "<Figure size 432x288 with 16 Axes>"
            ]
          },
          "metadata": {
            "tags": []
          }
        },
        {
          "output_type": "stream",
          "text": [
            "W4 before (346, 1)\n",
            "M$V$ (346, 1)\n",
            "W4 after (346, 1)\n",
            "Current Epoch:  1  Current Iter: 96  Current D cost: 1.3219123567995181  Current G cost:  0.6470932746183944\n",
            "W4 before (346, 1)\n",
            "M$V$ (346, 1)\n",
            "W4 after (346, 1)\n",
            "Current Epoch:  1  Current Iter: 97  Current D cost: 1.3126561766134213  Current G cost:  0.6470932746183944\n",
            "W4 before (346, 1)\n",
            "M$V$ (346, 1)\n",
            "W4 after (346, 1)\n",
            "Current Epoch:  1  Current Iter: 98  Current D cost: 1.3070869592644225  Current G cost:  0.6470932746183944\n",
            "W4 before (346, 1)\n",
            "M$V$ (346, 1)\n",
            "W4 after (346, 1)\n",
            "Current Epoch:  1  Current Iter: 99  Current D cost: 1.3206695801912427  Current G cost:  0.6422482720381939\n",
            "W4 before (346, 1)\n",
            "M$V$ (346, 1)\n",
            "W4 after (346, 1)\n",
            "Current Epoch:  1  Current Iter: 100  Current D cost: 1.2986893500176406  Current G cost:  0.6422482720381939\n",
            "16\n"
          ],
          "name": "stdout"
        },
        {
          "output_type": "display_data",
          "data": {
            "image/png": "[encoded data removed]",
            "text/plain": [
              "<Figure size 432x288 with 16 Axes>"
            ]
          },
          "metadata": {
            "tags": []
          }
        },
        {
          "output_type": "stream",
          "text": [
            "W4 before (346, 1)\n",
            "M$V$ (346, 1)\n",
            "W4 after (346, 1)\n",
            "Current Epoch:  1  Current Iter: 101  Current D cost: 1.3012361936480588  Current G cost:  0.6422482720381939\n",
            "W4 before (346, 1)\n",
            "M$V$ (346, 1)\n",
            "W4 after (346, 1)\n",
            "Current Epoch:  1  Current Iter: 102  Current D cost: 1.293423924535281  Current G cost:  0.6427953057456004\n",
            "W4 before (346, 1)\n",
            "M$V$ (346, 1)\n",
            "W4 after (346, 1)\n",
            "Current Epoch:  1  Current Iter: 103  Current D cost: 1.2936438853945949  Current G cost:  0.6427953057456004\n",
            "W4 before (346, 1)\n",
            "M$V$ (346, 1)\n",
            "W4 after (346, 1)\n",
            "Current Epoch:  1  Current Iter: 104  Current D cost: 1.2928584687332427  Current G cost:  0.6427953057456004\n",
            "W4 before (346, 1)\n",
            "M$V$ (346, 1)\n",
            "W4 after (346, 1)\n",
            "Current Epoch:  1  Current Iter: 105  Current D cost: 1.2800691225702368  Current G cost:  0.6394468790265873\n",
            "16\n"
          ],
          "name": "stdout"
        },
        {
          "output_type": "display_data",
          "data": {
            "image/png": "[encoded data removed]",
            "text/plain": [
              "<Figure size 432x288 with 16 Axes>"
            ]
          },
          "metadata": {
            "tags": []
          }
        },
        {
          "output_type": "stream",
          "text": [
            "W4 before (346, 1)\n",
            "M$V$ (346, 1)\n",
            "W4 after (346, 1)\n",
            "Current Epoch:  1  Current Iter: 106  Current D cost: 1.2886313885592071  Current G cost:  0.6394468790265873\n",
            "W4 before (346, 1)\n",
            "M$V$ (346, 1)\n",
            "W4 after (346, 1)\n",
            "Current Epoch:  1  Current Iter: 107  Current D cost: 1.265847423594965  Current G cost:  0.6394468790265873\n",
            "W4 before (346, 1)\n",
            "M$V$ (346, 1)\n",
            "W4 after (346, 1)\n",
            "Current Epoch:  1  Current Iter: 108  Current D cost: 1.269366618650892  Current G cost:  0.6391304913838527\n",
            "W4 before (346, 1)\n",
            "M$V$ (346, 1)\n",
            "W4 after (346, 1)\n",
            "Current Epoch:  1  Current Iter: 109  Current D cost: 1.261533390692941  Current G cost:  0.6391304913838527\n",
            "W4 before (346, 1)\n",
            "M$V$ (346, 1)\n",
            "W4 after (346, 1)\n",
            "Current Epoch:  1  Current Iter: 110  Current D cost: 1.2501409578841933  Current G cost:  0.6391304913838527\n",
            "16\n"
          ],
          "name": "stdout"
        },
        {
          "output_type": "display_data",
          "data": {
            "image/png": "[encoded data removed]",
            "text/plain": [
              "<Figure size 432x288 with 16 Axes>"
            ]
          },
          "metadata": {
            "tags": []
          }
        },
        {
          "output_type": "stream",
          "text": [
            "W4 before (346, 1)\n",
            "M$V$ (346, 1)\n",
            "W4 after (346, 1)\n",
            "Current Epoch:  1  Current Iter: 111  Current D cost: 1.2534657765704376  Current G cost:  0.6427794870207513\n",
            "W4 before (346, 1)\n",
            "M$V$ (346, 1)\n",
            "W4 after (346, 1)\n",
            "Current Epoch:  1  Current Iter: 112  Current D cost: 1.2387638949798023  Current G cost:  0.6427794870207513\n",
            "W4 before (346, 1)\n",
            "M$V$ (346, 1)\n",
            "W4 after (346, 1)\n",
            "Current Epoch:  1  Current Iter: 113  Current D cost: 1.2405894677169855  Current G cost:  0.6427794870207513\n",
            "W4 before (346, 1)\n",
            "M$V$ (346, 1)\n",
            "W4 after (346, 1)\n",
            "Current Epoch:  1  Current Iter: 114  Current D cost: 1.2300822602020474  Current G cost:  0.629068970465994\n",
            "W4 before (346, 1)\n",
            "M$V$ (346, 1)\n",
            "W4 after (346, 1)\n",
            "Current Epoch:  1  Current Iter: 115  Current D cost: 1.2330631096848226  Current G cost:  0.629068970465994\n",
            "16\n"
          ],
          "name": "stdout"
        },
        {
          "output_type": "display_data",
          "data": {
            "image/png": "[encoded data removed]",
            "text/plain": [
              "<Figure size 432x288 with 16 Axes>"
            ]
          },
          "metadata": {
            "tags": []
          }
        },
        {
          "output_type": "stream",
          "text": [
            "W4 before (346, 1)\n",
            "M$V$ (346, 1)\n",
            "W4 after (346, 1)\n",
            "Current Epoch:  1  Current Iter: 116  Current D cost: 1.233334025958287  Current G cost:  0.629068970465994\n",
            "W4 before (346, 1)\n",
            "M$V$ (346, 1)\n",
            "W4 after (346, 1)\n",
            "Current Epoch:  1  Current Iter: 117  Current D cost: 1.21805441833096  Current G cost:  0.6323157614621763\n",
            "W4 before (346, 1)\n",
            "M$V$ (346, 1)\n",
            "W4 after (346, 1)\n",
            "Current Epoch:  1  Current Iter: 118  Current D cost: 1.2031542299212998  Current G cost:  0.6323157614621763\n",
            "W4 before (346, 1)\n",
            "M$V$ (346, 1)\n",
            "W4 after (346, 1)\n",
            "Current Epoch:  1  Current Iter: 119  Current D cost: 1.202381345712257  Current G cost:  0.6323157614621763\n",
            "W4 before (346, 1)\n",
            "M$V$ (346, 1)\n",
            "W4 after (346, 1)\n",
            "Current Epoch:  1  Current Iter: 120  Current D cost: 1.1945968447091126  Current G cost:  0.6281343972042044\n",
            "16\n"
          ],
          "name": "stdout"
        },
        {
          "output_type": "display_data",
          "data": {
            "image/png": "[encoded data removed]",
            "text/plain": [
              "<Figure size 432x288 with 16 Axes>"
            ]
          },
          "metadata": {
            "tags": []
          }
        }
      ]
    },
    {
      "cell_type": "code",
      "metadata": {
        "id": "_FzrLFQvGIga",
        "colab_type": "code",
        "colab": {}
      },
      "source": [
        ""
      ],
      "execution_count": 0,
      "outputs": []
    },
    {
      "cell_type": "code",
      "metadata": {
        "id": "TQmZ2XFXX890",
        "colab_type": "code",
        "colab": {}
      },
      "source": [
        ""
      ],
      "execution_count": 0,
      "outputs": []
    },
    {
      "cell_type": "code",
      "metadata": {
        "id": "-949rVgZWeCt",
        "colab_type": "code",
        "colab": {}
      },
      "source": [
        ""
      ],
      "execution_count": 0,
      "outputs": []
    },
    {
      "cell_type": "code",
      "metadata": {
        "colab_type": "code",
        "id": "zYry6Fe6eL4m",
        "colab": {}
      },
      "source": [
        ""
      ],
      "execution_count": 0,
      "outputs": []
    },
    {
      "cell_type": "code",
      "metadata": {
        "id": "Z_59RtsZGIgx",
        "colab_type": "code",
        "colab": {}
      },
      "source": [
        "import matplotlib.pyplot as plt\n",
        "plt.figure(figsize=(5,7))\n",
        "plt.plot(forwardPropGen1, color = 'tab:blue', label = 'Forward Prop Gen 1')\n",
        "plt.plot(forwardPropDisc1,color = 'tab:green', label = 'Forward Prop Disc Real')\n",
        "plt.plot(forwardPropDisc2,color = 'tab:red', label = 'Forward Prop Disc Fake')\n",
        "plt.plot(gradientComputeDisc1,color = 'tab:gray', label = 'Gradient Discriminator Real')\n",
        "plt.plot(gradientComputeDisc2,color = 'tab:olive', label = 'Gradient Discriminator Real')\n",
        "plt.plot(backwardPropDisc,color = 'tab:pink', label = 'Backward Prop Disc')\n",
        "plt.plot(forwardPropGen2,color = 'tab:orange', label = 'Forward Prop Gen 2 (Train Gen)')\n",
        "plt.plot(forwardPropDisc3,color = 'tab:purple', label = 'Forward Prop Disc (Train Gen)')\n",
        "plt.plot(gradientComputeGen,color = 'tab:cyan', label = 'Gradient Compute Gen')\n",
        "plt.plot(backwardPropGen,color = 'tab:brown', label = 'Backward Prop Gen')\n",
        "plt.legend(bbox_to_anchor=(1.1, 1.05))\n",
        "plt.xlabel(\"Epochs\")\n",
        "plt.ylabel(\"Time in ms\")\n",
        "plt.show()"
      ],
      "execution_count": 0,
      "outputs": []
    },
    {
      "cell_type": "code",
      "metadata": {
        "colab_type": "code",
        "id": "Sub4goywbfRI",
        "colab": {}
      },
      "source": [
        "l=[]\n",
        "for i in range(15):\n",
        "    Z = np.random.normal(0., 1., size=[100, G_input])\n",
        "    Gl1 = Z.dot(G_W1) + G_b1\n",
        "    Gl1A = Lrelu(Gl1)\n",
        "    Gl2 = Gl1A.dot(G_W2) + G_b2\n",
        "    Gl2A = Lrelu(Gl2)\n",
        "    Gl3 = Gl2A.dot(G_W3) + G_b3\n",
        "    Gl3A = Lrelu(Gl3)\n",
        "    Gl4 = Gl3A.dot(G_W4) + G_b4\n",
        "    Gl4A = Lrelu(Gl4)\n",
        "    '''Gl5 = Gl4A.dot(G_W5) + G_b5\n",
        "    Gl5A = Lrelu(Gl5)\n",
        "    Gl6 = Gl5A.dot(G_W6) + G_b6\n",
        "    Gl6A = Lrelu(Gl6)\n",
        "    Gl7 = Gl6A.dot(G_W7) + G_b7\n",
        "    Gl7A = Lrelu(Gl7)\n",
        "    Gl8 = Gl7A.dot(G_W8) + G_b8\n",
        "    Gl8A = Lrelu(Gl8)\n",
        "    Gl9 = Gl8A.dot(G_W9) + G_b9\n",
        "    Gl9A = Lrelu(Gl9)\n",
        "    Gl10 = Gl9A.dot(G_W10) + G_b10\n",
        "    Gl10A = Lrelu(Gl10)'''\n",
        "    Gl11 = Gl4A.dot(G_W11) + G_b11\n",
        "    \n",
        "    current_fake_data = log(Gl11)\n",
        "    l.append(current_fake_data)\n",
        "\n",
        "fig = plot(l,\"TEST\")\n",
        "fig.savefig('Click_Me_{}.png'.format(str(iter).zfill(3)+\"_Ginput_\"+str(G_input)+ \"_hiddenone\"+str(hidden_input) + \"_hiddentwo\"+str(hidden_input2) + \"_LR_\" + str(learing_rate)), bbox_inches='tight')"
      ],
      "execution_count": 0,
      "outputs": []
    },
    {
      "cell_type": "code",
      "metadata": {
        "colab_type": "code",
        "id": "FnpFQdTpbfRS",
        "colab": {}
      },
      "source": [
        "# This is currently not working. \n",
        "\n",
        "Z = np.random.normal(0., 1., size=[1, G_input])\n",
        "Gl1 = Z.dot(G_W1) + G_b1\n",
        "print(\"bias\", G_b1.shape)\n",
        "Gl1A = Lrelu(Gl1)\n",
        "Gl2 = Gl1A.dot(G_W2) + G_b2\n",
        "Gl2A = Lrelu(Gl2)\n",
        "Gl3 = Gl2A.dot(G_W3) + G_b3\n",
        "Gl3A = Lrelu(Gl3)\n",
        "Gl4 = Gl3A.dot(G_W4) + G_b4\n",
        "Gl4A = Lrelu(Gl4)\n",
        "'''Gl5 = Gl4A.dot(G_W5) + G_b5\n",
        "Gl5A = Lrelu(Gl5)\n",
        "Gl6 = Gl5A.dot(G_W6) + G_b6\n",
        "Gl6A = Lrelu(Gl6)\n",
        "Gl7 = Gl6A.dot(G_W7) + G_b7\n",
        "Gl7A = Lrelu(Gl7)\n",
        "Gl8 = Gl7A.dot(G_W8) + G_b8\n",
        "Gl8A = Lrelu(Gl8)\n",
        "Gl9 = Gl8A.dot(G_W9) + G_b9\n",
        "Gl9A = Lrelu(Gl9)\n",
        "Gl10 = Gl9A.dot(G_W10) + G_b10\n",
        "Gl10A = Lrelu(Gl10)'''\n",
        "Gl11 = Gl4A.dot(G_W11) + G_b11\n",
        "\n",
        "current_fake_data = log(Gl11)\n",
        "print(\"current_fake shape: \", current_fake_data.shape)\n",
        "\n",
        "Y = np.random.normal(0., 1., size=[1, G_input])\n",
        "Gl1 = Y.dot(G_W1) + G_b1\n",
        "Gl1A = Lrelu(Gl1)\n",
        "Gl2 = Gl1A.dot(G_W2) + G_b2\n",
        "Gl2A = Lrelu(Gl2)\n",
        "Gl3 = Gl2A.dot(G_W3) + G_b3\n",
        "Gl3A = Lrelu(Gl3)\n",
        "Gl4 = Gl3A.dot(G_W4) + G_b4\n",
        "Gl4A = Lrelu(Gl4)\n",
        "'''Gl5 = Gl4A.dot(G_W5) + G_b5\n",
        "Gl5A = Lrelu(Gl5)\n",
        "Gl6 = Gl5A.dot(G_W6) + G_b6\n",
        "Gl6A = Lrelu(Gl6)\n",
        "Gl7 = Gl6A.dot(G_W7) + G_b7\n",
        "Gl7A = Lrelu(Gl7)\n",
        "Gl8 = Gl7A.dot(G_W8) + G_b8\n",
        "Gl8A = Lrelu(Gl8)\n",
        "Gl9 = Gl8A.dot(G_W9) + G_b9\n",
        "Gl9A = Lrelu(Gl9)\n",
        "Gl10 = Gl9A.dot(G_W10) + G_b10\n",
        "Gl10A = Lrelu(Gl10)'''\n",
        "Gl11 = Gl4A.dot(G_W11) + G_b11\n",
        "\n",
        "s_data = log(Gl11)\n",
        "print(\"s_data shape: \", s_data.shape)\n",
        "print((s_data - current_fake_data).shape)\n",
        "fig = plot(s_data - current_fake_data,\"TEST\")\n",
        "\n"
      ],
      "execution_count": 0,
      "outputs": []
    },
    {
      "cell_type": "code",
      "metadata": {
        "colab_type": "code",
        "id": "RfjgFlc9bfRf",
        "colab": {}
      },
      "source": [
        "print((grad_r_w4_part_1 * grad_r_w4_part_2).shape)"
      ],
      "execution_count": 0,
      "outputs": []
    },
    {
      "cell_type": "code",
      "metadata": {
        "colab_type": "code",
        "id": "sXhuAW8zbfRs",
        "colab": {}
      },
      "source": [
        "print(len(l[0]))"
      ],
      "execution_count": 0,
      "outputs": []
    },
    {
      "cell_type": "code",
      "metadata": {
        "colab_type": "code",
        "id": "ZA9tB9_2bfR2",
        "colab": {}
      },
      "source": [
        "plot([current_images],\"REAL\")"
      ],
      "execution_count": 0,
      "outputs": []
    },
    {
      "cell_type": "code",
      "metadata": {
        "colab_type": "code",
        "id": "56R3Qb35bfSC",
        "colab": {}
      },
      "source": [
        "print(grad_r_w4_part_3.T.dot(grad_r_w4_part_1 * grad_r_w4_part_2)"
      ],
      "execution_count": 0,
      "outputs": []
    },
    {
      "cell_type": "code",
      "metadata": {
        "colab_type": "code",
        "id": "4twoZKgvbfSk",
        "colab": {}
      },
      "source": [
        "    \n",
        "current_image = [np.expand_dims(images[i],axis=0) for i in range(50)]\n",
        "    \n",
        "current_images = np.vstack(current_image)"
      ],
      "execution_count": 0,
      "outputs": []
    },
    {
      "cell_type": "code",
      "metadata": {
        "colab_type": "code",
        "id": "0b_-c-6TbfTC",
        "colab": {}
      },
      "source": [
        "print(grad_G_w11_part_2.shape)"
      ],
      "execution_count": 0,
      "outputs": []
    },
    {
      "cell_type": "code",
      "metadata": {
        "colab_type": "code",
        "id": "lGK_P4habfTp",
        "colab": {}
      },
      "source": [
        "len(current_images)"
      ],
      "execution_count": 0,
      "outputs": []
    },
    {
      "cell_type": "code",
      "metadata": {
        "id": "X4KSfU_tGIh_",
        "colab_type": "code",
        "colab": {}
      },
      "source": [
        ""
      ],
      "execution_count": 0,
      "outputs": []
    },
    {
      "cell_type": "code",
      "metadata": {
        "id": "e3VPx9LnejKk",
        "colab_type": "code",
        "colab": {}
      },
      "source": [
        "rBatch.shape"
      ],
      "execution_count": 0,
      "outputs": []
    },
    {
      "cell_type": "code",
      "metadata": {
        "id": "CJssxefyewd2",
        "colab_type": "code",
        "colab": {}
      },
      "source": [
        "Dl3_rA[0]"
      ],
      "execution_count": 0,
      "outputs": []
    },
    {
      "cell_type": "code",
      "metadata": {
        "id": "-iG5V4Pve9L4",
        "colab_type": "code",
        "colab": {}
      },
      "source": [
        ""
      ],
      "execution_count": 0,
      "outputs": []
    }
  ]
}
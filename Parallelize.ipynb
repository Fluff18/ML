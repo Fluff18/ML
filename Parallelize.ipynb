{
  "nbformat": 4,
  "nbformat_minor": 0,
  "metadata": {
    "colab": {
      "name": "Parallelize.ipynb",
      "provenance": [],
      "authorship_tag": "ABX9TyNLtaLwr8mv8M/3qEfqOKDR",
      "include_colab_link": true
    },
    "kernelspec": {
      "name": "python3",
      "display_name": "Python 3"
    }
  },
  "cells": [
    {
      "cell_type": "markdown",
      "metadata": {
        "id": "view-in-github",
        "colab_type": "text"
      },
      "source": [
        "<a href=\"https://colab.research.google.com/github/Fluff18/ML/blob/master/Parallelize.ipynb\" target=\"_parent\"><img src=\"https://colab.research.google.com/assets/colab-badge.svg\" alt=\"Open In Colab\"/></a>"
      ]
    },
    {
      "cell_type": "code",
      "metadata": {
        "id": "Ts3Ri9-SvBC9",
        "colab_type": "code",
        "colab": {
          "base_uri": "https://localhost:8080/",
          "height": 51
        },
        "outputId": "c6928d0f-9553-48b6-cb3f-12798b724e70"
      },
      "source": [
        "from time import sleep\n",
        "from threading import *\n",
        "import time\n",
        "class Hello(Thread):\n",
        "\tdef run(self):\n",
        "\t\ta=[]\n",
        "\t\tfor i in range(5):\n",
        "\t\t\ta.append(i*5+42)\n",
        "\t\t\ta[i]=a[i]+4\n",
        "\t\t\tsleep(1)\n",
        "\n",
        "\n",
        "class Hi(Thread):\n",
        "\tdef run(self):\n",
        "\t\tb=[]\n",
        "\t\tfor i in range(5):\n",
        "\t\t\tb.append(i*5+42)\n",
        "\t\t\tb[i]=b[i]+2*3\n",
        "\t\t\tsleep(1)\n",
        "\n",
        "starttime=time.time()\n",
        "t1 = Hello()\n",
        "t2 = Hi()\n",
        "\n",
        "t1.start()\n",
        "sleep(0.2)\n",
        "t2.start()\n",
        "\n",
        "t1.join()\n",
        "t2.join()\n",
        "t22=float(time.time()-starttime)\n",
        "print(\"----\",t22)\n",
        "\n",
        "arr=[]\n",
        "arr2=[]\n",
        "newstart=time.time()\n",
        "for i in range(5):\n",
        "\tarr.append(i*4+34)\n",
        "\tarr[i]=arr[i]+54\n",
        "\n",
        "\tarr2.append(i*4+34)\n",
        "\tarr2[i]=arr[i]+54\n",
        "t23=float(time.time()-newstart)\n",
        "print(\"----\",t23)\n"
      ],
      "execution_count": 5,
      "outputs": [
        {
          "output_type": "stream",
          "text": [
            "---- 5.209518909454346\n",
            "---- 0.00010275840759277344\n"
          ],
          "name": "stdout"
        }
      ]
    }
  ]
}